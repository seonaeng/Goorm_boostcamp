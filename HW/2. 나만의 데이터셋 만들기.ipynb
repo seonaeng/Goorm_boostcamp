{
  "nbformat": 4,
  "nbformat_minor": 0,
  "metadata": {
    "orig_nbformat": 4,
    "colab": {
      "name": "2. 나만의 데이터셋 만들기.ipynb",
      "provenance": [],
      "collapsed_sections": []
    },
    "language_info": {
      "name": "python"
    },
    "kernelspec": {
      "name": "python3",
      "display_name": "Python 3"
    }
  },
  "cells": [
    {
      "cell_type": "markdown",
      "metadata": {
        "id": "uXhw03DwU-Y2"
      },
      "source": [
        "# 과제 2. 나만의 데이터 셋 만들기\n",
        "기계 학습 분야에서 중요한 것 중 하나가 학습에 사용할 자료를 수집하고 관리하는 것입니다.\n",
        "예를 들어 주어진 문장이 부정인지 긍정인지 판별하는 모델을 학습 시키기 위해서는 긍정 부정이 라벨링된 문장 자료가 필요합니다.\n",
        "\n",
        "문장 | 긍부정 \n",
        "-------|--------\n",
        "진짜 좋은 영화. 가히 올해의 영화라고 불릴만하다. | 긍정 \n",
        "이런 영화에 100억원 이상 때려 넣은 감독은 충무로에서 쫓겨나야한다. | 부정 \n",
        "\n",
        "그러나 우리가 이러한 자료를 직접 수집 및 라벨링하기는 쉽지 않다.\n",
        "\n",
        "한편, 내부 연구나 교육적 목적으로 이미 가공된 인터넷의 글들을 수집하는 것은 공정이용으로 저작권법에 어긋나지 않습니다.\n",
        "따라서 네이버 영화 리뷰를 크롤링하여 나만의 긍부정 문장 데이터 셋을 만들어 봅시다.\n"
      ]
    },
    {
      "cell_type": "markdown",
      "metadata": {
        "id": "g-2tDfmFU-Y5"
      },
      "source": [
        "## 2-1. 네이버 영화 리뷰 크롤링 (40점)\n",
        "현재 상영 중인 영화에 대한 영화 한 줄 평은 다음 링크에서 확인 가능합니다.\n",
        "\n",
        "[https://movie.naver.com/movie/point/af/list.naver?&page=1](https://movie.naver.com/movie/point/af/list.naver?&page=1)\n",
        "\n",
        "네이버 영화 한줄평의 주소는 다음과 같이 `<페이지 숫자>`에 해당되는 숫자를 넣으면 해당 페이지를 불러오는 것이 가능합니다.\n",
        "\n",
        "https://movie.naver.com/movie/point/af/list.naver?&page= `<페이지 숫자>`\n",
        "\n",
        "이러한 접근을 통해 영화 한 줄 평을 끍어모아 다음과 같은 형태의 `CSV` 파일로 저장하는 코드를 만들어 봅시다.\n",
        "\n",
        "movie | sentence | score\n",
        "------|------|------\n",
        "모가디슈 | 재미잇게 잘봤습니다. 배우들 연기에 더몰입감있게 봤습니다. | 10\n",
        "낙원의 밤 | 차승원의 유머만 남은 흉내 낸 누아르, 결말조차 완벽하게 폭망 | 2\n",
        "국화꽃 향기 | 뭔가 와닿지 않는 감동 그리고 스토리. 아쉽지만 여운이 남지 않는다 | 4\n",
        "미쓰 홍당무 | 서우가 아주 매력적으로 나오는 영화 | 8\n",
        "더 수어사이드 스쿼드 | 후련하게 봤어요 재밌네요ㅋㅋㅋ잔인하고 징그러운거 좋아하시는 분들께 추천 | 9\n",
        "\n",
        "### 크롤러를 만들때 다음과 같은 사항을 준수해야 합니다.\n",
        "1. 실제 학습을 진행할 것은 아니기 때문에 문장은 1000개 정도만 가져오면 충분합니다.\n",
        "2. 각 페이지를 조회하실때 시간차가 없다면 DDOS 공격으로 분류되어 페이지 접속이 막힐 수가 있습니다. 페이지 조회시 최소 0.5초의 시간 차를 둡시다.\n",
        "3. 신고되어 삭제된 한줄평은 데이터에 들어가면 안됩니다. 또한 한줄평이 아예 없는 경우도 제외하셔야 합니다.\n",
        "4. 사용 가능한 라이브러리는 다음과 같습니다.\n",
        "    * 파이썬 표준 라이브러리\n",
        "    * Request\n",
        "    * Beutiful Soup\n",
        "    * (For colab user) Colab\n",
        "    * (Optional) Scrapy\n",
        "5. `CSV` 파일로 저장하실때 Unicode로 저장하셔야 하며, Excel에서 문제 없이 열 수 있어야 합니다.\n",
        "6. `CSV` 파일은 쉼표로 구분되어야 합니다.\n",
        "7. `CSV` 파일의 레코드 형식은 다음과 같습니다.\n",
        "  * movie - 영화 이름이 들어갑니다. 문자열입니다.\n",
        "  * sentence - 한줄평이 들어갑니다. 문자열입니다.\n",
        "  * score - 별점이 들어갑니다. 숫자입니다.\n",
        "8. 크롤링 코드를 실행하여 크롤링을 한 번에 완료해야 합니다.\n",
        "9. 그외 상세한 구현 방법은 자율입니다.\n",
        "\n",
        "### 과제를 제출하실때 다음을 제출해야합니다.\n",
        "1. 크롤링된 데이터를 저장한 `samples.csv`\n",
        "2. 크롤링 코드\n"
      ]
    },
    {
      "cell_type": "code",
      "metadata": {
        "id": "GCy3XR57VBoM"
      },
      "source": [
        "import requests\n",
        "from bs4 import BeautifulSoup\n",
        "import pandas as pd\n",
        "import re, time, csv"
      ],
      "execution_count": 1,
      "outputs": []
    },
    {
      "cell_type": "code",
      "metadata": {
        "colab": {
          "base_uri": "https://localhost:8080/"
        },
        "id": "yF7qpBGYVBas",
        "outputId": "80f72e77-9aa1-4662-81c9-be0ba4268e95"
      },
      "source": [
        "from google.colab import drive\n",
        "from google.colab import auth\n",
        "auth.authenticate_user()\n",
        "\n",
        "drive.mount('/content/drive')"
      ],
      "execution_count": 2,
      "outputs": [
        {
          "output_type": "stream",
          "text": [
            "Mounted at /content/drive\n"
          ],
          "name": "stdout"
        }
      ]
    },
    {
      "cell_type": "code",
      "metadata": {
        "id": "Ze4rAoWTVBNK"
      },
      "source": [
        "base_url = 'https://movie.naver.com/movie/point/af/list.naver?&page={}'\n",
        "url = base_url.format(1)\n",
        "res = requests.get(url)"
      ],
      "execution_count": 3,
      "outputs": []
    },
    {
      "cell_type": "code",
      "metadata": {
        "id": "5GVGzPItVI2f"
      },
      "source": [
        "review_list = []\n",
        "delay = 0.5\n",
        "\n",
        "for page in range(1,101):\n",
        "  url = base_url.format(page)\n",
        "  res = requests.get(url)\n",
        "  if res.status_code == 200:\n",
        "    soup = BeautifulSoup(res.text,'lxml')\n",
        "    table = soup.select('table.list_netizen > tbody > tr > td.title')\n",
        "    for i in table:\n",
        "      movie = i.select_one('a.movie').text.strip()\n",
        "      sentence = i.select_one('br').next_sibling.strip()\n",
        "      score = i.select_one('div.list_netizen_score > em').text.strip()\n",
        "      review_list.append((movie, sentence, score))\n",
        "    time.sleep(delay)\n",
        "samples = pd.DataFrame(review_list, columns=['movie','sentence','score'])\n",
        "samples.to_csv('/content/drive/My Drive/samples.csv', encoding = 'utf-8', index=False)"
      ],
      "execution_count": 4,
      "outputs": []
    },
    {
      "cell_type": "code",
      "metadata": {
        "colab": {
          "base_uri": "https://localhost:8080/",
          "height": 204
        },
        "id": "wHngti6nVK12",
        "outputId": "ec595f5e-2d4b-429c-9629-73a10f4c5814"
      },
      "source": [
        "samples.head()"
      ],
      "execution_count": 5,
      "outputs": [
        {
          "output_type": "execute_result",
          "data": {
            "text/html": [
              "<div>\n",
              "<style scoped>\n",
              "    .dataframe tbody tr th:only-of-type {\n",
              "        vertical-align: middle;\n",
              "    }\n",
              "\n",
              "    .dataframe tbody tr th {\n",
              "        vertical-align: top;\n",
              "    }\n",
              "\n",
              "    .dataframe thead th {\n",
              "        text-align: right;\n",
              "    }\n",
              "</style>\n",
              "<table border=\"1\" class=\"dataframe\">\n",
              "  <thead>\n",
              "    <tr style=\"text-align: right;\">\n",
              "      <th></th>\n",
              "      <th>movie</th>\n",
              "      <th>sentence</th>\n",
              "      <th>score</th>\n",
              "    </tr>\n",
              "  </thead>\n",
              "  <tbody>\n",
              "    <tr>\n",
              "      <th>0</th>\n",
              "      <td>피닉스</td>\n",
              "      <td>피닉스 선즈 우승실패~^^</td>\n",
              "      <td>6</td>\n",
              "    </tr>\n",
              "    <tr>\n",
              "      <th>1</th>\n",
              "      <td>그린 나이트</td>\n",
              "      <td>슬럼독 밀리어네어 이후 데브파텔의 대표작이 될중세판 '일리어드와 오딧세이'</td>\n",
              "      <td>8</td>\n",
              "    </tr>\n",
              "    <tr>\n",
              "      <th>2</th>\n",
              "      <td>마더</td>\n",
              "      <td>왜 이걸 이제 봤나 싶어여 ...</td>\n",
              "      <td>10</td>\n",
              "    </tr>\n",
              "    <tr>\n",
              "      <th>3</th>\n",
              "      <td>방법: 재차의</td>\n",
              "      <td>재밌었어요! 오윤아님 연기 너무 잘해서 깜짝 놀랐어요. 2편도 꼭 만들어주시길!</td>\n",
              "      <td>10</td>\n",
              "    </tr>\n",
              "    <tr>\n",
              "      <th>4</th>\n",
              "      <td>블랙 위도우</td>\n",
              "      <td>그냥 봐도 나쁘지 않았다 ^^</td>\n",
              "      <td>8</td>\n",
              "    </tr>\n",
              "  </tbody>\n",
              "</table>\n",
              "</div>"
            ],
            "text/plain": [
              "     movie                                      sentence score\n",
              "0      피닉스                                피닉스 선즈 우승실패~^^     6\n",
              "1   그린 나이트     슬럼독 밀리어네어 이후 데브파텔의 대표작이 될중세판 '일리어드와 오딧세이'     8\n",
              "2       마더                            왜 이걸 이제 봤나 싶어여 ...    10\n",
              "3  방법: 재차의  재밌었어요! 오윤아님 연기 너무 잘해서 깜짝 놀랐어요. 2편도 꼭 만들어주시길!    10\n",
              "4   블랙 위도우                              그냥 봐도 나쁘지 않았다 ^^     8"
            ]
          },
          "metadata": {
            "tags": []
          },
          "execution_count": 5
        }
      ]
    },
    {
      "cell_type": "markdown",
      "metadata": {
        "id": "4nyK33i6U-Y6"
      },
      "source": [
        "## 2-2. 네이버 영화 데이터 셋 제작 (30점)\n",
        "`CSV` 파일로 저장된 데이터를 쉽게 접근하기 위해서는 파이썬 내에서 구조화할 필요가 있습니다.\n",
        "이를 위하여 데이터에 접근 가능한 `RawMovieReview` 클래스를 만들어 봅시다.\n",
        "\n",
        "\n",
        "### `RawMovieReview` 클래스는 다음을 준수해야 합니다.\n",
        "0. 이하 모든 클래스 공통 사항\n",
        "    * 클래스 속성은 사용이 금지됩니다.\n",
        "    * 전역 변수 사용이 금지됩니다.\n",
        "1. 생성자\n",
        "    * 생성자의 인자는 `str`타입의 `file_name` 하나만을 받습니다.\n",
        "    * `file_name` 인자의 기본값은 `\"samples.csv\"`입니다.\n",
        "    * 해당 객체는 해당 파일을 다루는 객체가 되어야 합니다.\n",
        "    * 모든 속성 값은 `protected` 홋은 `private`이어야 합니다. 즉, 메소드만 `public`입니다.\n",
        "2. Indexing\n",
        "    * 대괄호로 N번째 sample에 접근할 수 있어야 합니다.\n",
        "    * N은 0부터 시작합니다. 즉, `dataset[0]`은 첫번째 한줄 평 입니다.\n",
        "    * Indexing 결과값은 `영화 이름, 한줄평, 점수`로 타입은 `(str, str, int)` 형태의 튜플입니다.\n",
        "    * 대괄호로 읽기만 가능하고 수정은 불가능해야 합니다.\n",
        "3. Length\n",
        "    * `len(dataset)`의 형태로 데이터셋 내의 한줄평 개수를 조회할 수 있어야 합니다.\n",
        "\n",
        "### 과제를 제출하실때 다음을 제출해야합니다.\n",
        "1. `RawMoviewReview` 클래스가 정의된 코드 (`.py` 혹은 `.ipynb`)\n"
      ]
    },
    {
      "cell_type": "code",
      "metadata": {
        "id": "D7kvtbnLVPC7"
      },
      "source": [
        " class RawMovieReview(object):\n",
        "  def __init__ (self,file_name : str):\n",
        "    self.file_name = file_name\n",
        "    self.data = pd.read_csv('/content/drive/My Drive/{}'.format(file_name))\n",
        "\n",
        "  def __len__(self):\n",
        "    return len(self.data)\n",
        "  \n",
        "  def __getitem__(self, index):\n",
        "    if index > len(self.data):\n",
        "      raise IndexError()\n",
        "    return tuple(self.data.iloc[index])"
      ],
      "execution_count": 6,
      "outputs": []
    },
    {
      "cell_type": "code",
      "metadata": {
        "id": "Vk9GgLyIVO0g"
      },
      "source": [
        "dataset = RawMovieReview('samples.csv')"
      ],
      "execution_count": 7,
      "outputs": []
    },
    {
      "cell_type": "code",
      "metadata": {
        "colab": {
          "base_uri": "https://localhost:8080/"
        },
        "id": "9DzS3Bc1VSiN",
        "outputId": "b02bd031-319f-4373-9ce8-8bece24a2784"
      },
      "source": [
        "dataset[1]"
      ],
      "execution_count": 8,
      "outputs": [
        {
          "output_type": "execute_result",
          "data": {
            "text/plain": [
              "('그린 나이트', \"슬럼독 밀리어네어 이후 데브파텔의 대표작이 될중세판 '일리어드와 오딧세이'\", 8)"
            ]
          },
          "metadata": {
            "tags": []
          },
          "execution_count": 8
        }
      ]
    },
    {
      "cell_type": "code",
      "metadata": {
        "colab": {
          "base_uri": "https://localhost:8080/"
        },
        "id": "M3GQrXtkVScL",
        "outputId": "d85e81bb-d0a8-493e-abb7-b88c6b64adf5"
      },
      "source": [
        "len(dataset)"
      ],
      "execution_count": 9,
      "outputs": [
        {
          "output_type": "execute_result",
          "data": {
            "text/plain": [
              "1000"
            ]
          },
          "metadata": {
            "tags": []
          },
          "execution_count": 9
        }
      ]
    },
    {
      "cell_type": "markdown",
      "metadata": {
        "id": "3Y-Sx4L_U-Y6"
      },
      "source": [
        "## 2-3. 네이버 영화 학습 데이터 셋 제작 (30점)\n",
        "위에서 제작한 데이터 셋은 `CSV` 파일을 모두 조회하지만, 학습에 바로 사용되기에는 다소 불편합니다.\n",
        "따라서 이를 상속한 `MovieReview`를 만들어 봅시다. \n",
        "\n",
        "### `MovieReview` 클래스는 다음을 준수해야 합니다.\n",
        "1. 상속\n",
        "    * 위에서 정의한 `RawMoviewReview` 클래스를 상속받아야합니다.\n",
        "    * `RawMoviewReview` 내의 데이터를 복사하면 안됩니다.\n",
        "    * 즉, 저장된 `CSV`파일은 부모 클래스의 속성 혹은 메소드로 접근해야합니다.\n",
        "2. 생성자\n",
        "    * 생성자의 인자는 부모의 인자와 `int`타입의 `score_threadhold`를 받습니다.\n",
        "    * 해당 클래스에는 `CSV`파일 및 그 내용이 속성으로 들어가면 안됩니다.\n",
        "    * 즉, 영화 데이터는 부모에만 저장되어야합니다.\n",
        "3. Indexing\n",
        "    * 부모의 Indexing을 재정의합니다. (Overriding)\n",
        "    * 기본적인 기능은 부모의 기능과 비슷하나 이하의 사항이 다릅니다.\n",
        "    * Indexing 결과 값은 `한줄평, 긍부정`으로 타입은 `(str, bool)` 형태의 튜플입니다.\n",
        "    * 점수가 객체의 `score_threadhold` 이상일 경우 긍부정이 `True`, 미만이면 `False` 입니다.\n",
        "    * 한줄평 string의 경우 양쪽에 공백이 없어야 합니다.\n",
        "\n",
        "### 과제를 제출하실때 다음을 제출해야합니다.\n",
        "1. `MoviewReview` 클래스가 정의된 코드 (`.py` 혹은 `.ipynb`)"
      ]
    },
    {
      "cell_type": "code",
      "metadata": {
        "id": "DAqo-7t3VY_E"
      },
      "source": [
        "class MovieReview(RawMovieReview):\n",
        "  def __init__(self, file_name:str, score_threadhold:int):\n",
        "    super().__init__(file_name)\n",
        "    self.score_threadhold = score_threadhold\n",
        "\n",
        "  def __getitem__(self, index):\n",
        "    super().__getitem__(index)\n",
        "    if index > len(self.data):\n",
        "      raise IndexError()\n",
        "    if self.data['score'][index] >= self.score_threadhold :\n",
        "        score = True\n",
        "    else : score = False\n",
        "    return self.data['sentence'][index].strip(), score"
      ],
      "execution_count": 10,
      "outputs": []
    },
    {
      "cell_type": "code",
      "metadata": {
        "id": "yjs7mcjMVZop"
      },
      "source": [
        "Review_score = MovieReview('samples.csv',5)"
      ],
      "execution_count": 11,
      "outputs": []
    },
    {
      "cell_type": "code",
      "metadata": {
        "colab": {
          "base_uri": "https://localhost:8080/"
        },
        "id": "GK836phvVZjC",
        "outputId": "11a45e77-7bda-4cf9-8dde-effc37d495a0"
      },
      "source": [
        "print(Review_score[1])"
      ],
      "execution_count": 12,
      "outputs": [
        {
          "output_type": "stream",
          "text": [
            "(\"슬럼독 밀리어네어 이후 데브파텔의 대표작이 될중세판 '일리어드와 오딧세이'\", True)\n"
          ],
          "name": "stdout"
        }
      ]
    },
    {
      "cell_type": "markdown",
      "metadata": {
        "id": "EHM-gKVoU-Y7"
      },
      "source": [
        "## 최종 제출\n",
        "* 모든 파일을 `zip`으로 압축하여 `HW2_<한글 이름>.zip` 형태로 제출합니다.\n",
        "* 이 파일은 굳이 제출 안하셔도 됩니다"
      ]
    },
    {
      "cell_type": "markdown",
      "metadata": {
        "id": "RHZ42IAaA5WP"
      },
      "source": [
        "## 채점 기준 표\n",
        "각각의 문제에 대해서 이하의 감점이 각각 들어갈 수 있습니다. 음수 점수는 없습니다.\n",
        "아래의 채점 기준표는 확정이 아니며, 추후 수정된 점수 기준이 적용될 수 있습니다.\n",
        "\n",
        "감점요소 | 설명 | 감점 점수\n",
        "-----|-----|-----\n",
        "API 문서와 다른 입출력 | 과제 내 명시된 API 및 포멧과 입출력이 다릅니다. | -15\n",
        "비효율적인 시간복잡도 | 시간복잡도가 최선이 아닙니다. (크롤링 $O(N)$, Indexing $O(1)$)| -10\n",
        "비효율적인 공간 구조 | 부모 자식간 데이터가 중복하는 형태로 클래스가 작성되어 있습니다. | -10\n",
        "명시되어 있지 않은 외부 라이브러리 사용 | 지정된 라이브러리 외에 다른 라이브러리를 사용하였습니다 | -10\n",
        "권장하지 않는 문법 | 전역 변수나 클래스 속성을 사용하였습니다. | -10"
      ]
    }
  ]
}