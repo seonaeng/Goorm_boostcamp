{
  "nbformat": 4,
  "nbformat_minor": 0,
  "metadata": {
    "colab": {
      "name": "[HW11] Multiple linear regression.ipynb",
      "provenance": [],
      "collapsed_sections": []
    },
    "kernelspec": {
      "name": "python3",
      "display_name": "Python 3"
    },
    "language_info": {
      "name": "python"
    }
  },
  "cells": [
    {
      "cell_type": "markdown",
      "metadata": {
        "id": "DZQDqFkW67qy"
      },
      "source": [
        "# [HW11] Multiple Linear Regression\n",
        "\n",
        "지난시간에는 하나의 독립 변수 $x$에 대해서 하나의 종속 변수 $y$ 사이의 관계를 알아보는 simple linear regression에 대해서 실습했습니다. 하지만 실제로 예측을 하고자 할 떄 보통 하나 이상의 변수들을 고려해야 합니다. 예를 들어서 집 값을 예측을 하고자 한다면, 집의 크기, 주변의 편의 시설, 위치, 화장실의 개수, 건축 년도 등등 고려해야 할 것들이 매우 많습니다. 이번 과제에서는 이렇게 다양한 입력 변수들을 다루는 **multiple linear regression** 에 대해서 알아보겠습니다. "
      ]
    },
    {
      "cell_type": "markdown",
      "metadata": {
        "id": "Wyw-Nl1Y7Svp"
      },
      "source": [
        "##  1.1 Dataset\n",
        "\n",
        "Multiple linear regression을 진행하기 위해서 데이터셋을 가져오겠습니다. 이번 과제에서 사용할 데이터셋은 자동차의 여러 기술적인 사양들을 고려하여 연비를 예측하는 auto miles per gallon(MPG) dataset입니다. \n"
      ]
    },
    {
      "cell_type": "markdown",
      "metadata": {
        "id": "CfkBdEhn9RFv"
      },
      "source": [
        "데이터를 불러오겠습니다. "
      ]
    },
    {
      "cell_type": "code",
      "metadata": {
        "id": "dnw3Vke49TXR"
      },
      "source": [
        "import pandas\n",
        "import seaborn\n",
        "seaborn.set()"
      ],
      "execution_count": 1,
      "outputs": []
    },
    {
      "cell_type": "code",
      "metadata": {
        "colab": {
          "base_uri": "https://localhost:8080/"
        },
        "id": "phf4ukFt9oZ1",
        "outputId": "a4cbfd61-5da2-46a2-d160-8394defe12a4"
      },
      "source": [
        "from urllib.request import urlretrieve\n",
        "URL = 'https://go.gwu.edu/engcomp6data3'\n",
        "urlretrieve(URL, 'auto_mpg.csv')"
      ],
      "execution_count": 2,
      "outputs": [
        {
          "output_type": "execute_result",
          "data": {
            "text/plain": [
              "('auto_mpg.csv', <http.client.HTTPMessage at 0x7fa237c3cd90>)"
            ]
          },
          "metadata": {},
          "execution_count": 2
        }
      ]
    },
    {
      "cell_type": "code",
      "metadata": {
        "colab": {
          "base_uri": "https://localhost:8080/",
          "height": 204
        },
        "id": "1zXi2a9V9qPJ",
        "outputId": "d80af3da-56ca-45b4-d2a2-6a2688b8fe65"
      },
      "source": [
        "mpg_data = pandas.read_csv('/content/auto_mpg.csv')\n",
        "mpg_data.head()"
      ],
      "execution_count": 3,
      "outputs": [
        {
          "output_type": "execute_result",
          "data": {
            "text/html": [
              "<div>\n",
              "<style scoped>\n",
              "    .dataframe tbody tr th:only-of-type {\n",
              "        vertical-align: middle;\n",
              "    }\n",
              "\n",
              "    .dataframe tbody tr th {\n",
              "        vertical-align: top;\n",
              "    }\n",
              "\n",
              "    .dataframe thead th {\n",
              "        text-align: right;\n",
              "    }\n",
              "</style>\n",
              "<table border=\"1\" class=\"dataframe\">\n",
              "  <thead>\n",
              "    <tr style=\"text-align: right;\">\n",
              "      <th></th>\n",
              "      <th>mpg</th>\n",
              "      <th>cylinders</th>\n",
              "      <th>displacement</th>\n",
              "      <th>horsepower</th>\n",
              "      <th>weight</th>\n",
              "      <th>acceleration</th>\n",
              "      <th>model year</th>\n",
              "      <th>origin</th>\n",
              "      <th>car name</th>\n",
              "    </tr>\n",
              "  </thead>\n",
              "  <tbody>\n",
              "    <tr>\n",
              "      <th>0</th>\n",
              "      <td>18.0</td>\n",
              "      <td>8</td>\n",
              "      <td>307.0</td>\n",
              "      <td>130.0</td>\n",
              "      <td>3504.0</td>\n",
              "      <td>12.0</td>\n",
              "      <td>70</td>\n",
              "      <td>1</td>\n",
              "      <td>chevrolet chevelle malibu</td>\n",
              "    </tr>\n",
              "    <tr>\n",
              "      <th>1</th>\n",
              "      <td>15.0</td>\n",
              "      <td>8</td>\n",
              "      <td>350.0</td>\n",
              "      <td>165.0</td>\n",
              "      <td>3693.0</td>\n",
              "      <td>11.5</td>\n",
              "      <td>70</td>\n",
              "      <td>1</td>\n",
              "      <td>buick skylark 320</td>\n",
              "    </tr>\n",
              "    <tr>\n",
              "      <th>2</th>\n",
              "      <td>18.0</td>\n",
              "      <td>8</td>\n",
              "      <td>318.0</td>\n",
              "      <td>150.0</td>\n",
              "      <td>3436.0</td>\n",
              "      <td>11.0</td>\n",
              "      <td>70</td>\n",
              "      <td>1</td>\n",
              "      <td>plymouth satellite</td>\n",
              "    </tr>\n",
              "    <tr>\n",
              "      <th>3</th>\n",
              "      <td>16.0</td>\n",
              "      <td>8</td>\n",
              "      <td>304.0</td>\n",
              "      <td>150.0</td>\n",
              "      <td>3433.0</td>\n",
              "      <td>12.0</td>\n",
              "      <td>70</td>\n",
              "      <td>1</td>\n",
              "      <td>amc rebel sst</td>\n",
              "    </tr>\n",
              "    <tr>\n",
              "      <th>4</th>\n",
              "      <td>17.0</td>\n",
              "      <td>8</td>\n",
              "      <td>302.0</td>\n",
              "      <td>140.0</td>\n",
              "      <td>3449.0</td>\n",
              "      <td>10.5</td>\n",
              "      <td>70</td>\n",
              "      <td>1</td>\n",
              "      <td>ford torino</td>\n",
              "    </tr>\n",
              "  </tbody>\n",
              "</table>\n",
              "</div>"
            ],
            "text/plain": [
              "    mpg  cylinders  displacement  ...  model year  origin                   car name\n",
              "0  18.0          8         307.0  ...          70       1  chevrolet chevelle malibu\n",
              "1  15.0          8         350.0  ...          70       1          buick skylark 320\n",
              "2  18.0          8         318.0  ...          70       1         plymouth satellite\n",
              "3  16.0          8         304.0  ...          70       1              amc rebel sst\n",
              "4  17.0          8         302.0  ...          70       1                ford torino\n",
              "\n",
              "[5 rows x 9 columns]"
            ]
          },
          "metadata": {},
          "execution_count": 3
        }
      ]
    },
    {
      "cell_type": "markdown",
      "metadata": {
        "id": "LfUsE4OI99nB"
      },
      "source": [
        "mpg_data.info()를 통해서 Data에 대한 정보를 살펴보겠습니다. "
      ]
    },
    {
      "cell_type": "code",
      "metadata": {
        "colab": {
          "base_uri": "https://localhost:8080/"
        },
        "id": "pUNGi0pl9vjB",
        "outputId": "d61f4d5f-36b2-4d5c-f3ad-c4bc30ece5f7"
      },
      "source": [
        "mpg_data.info()"
      ],
      "execution_count": 4,
      "outputs": [
        {
          "output_type": "stream",
          "text": [
            "<class 'pandas.core.frame.DataFrame'>\n",
            "RangeIndex: 392 entries, 0 to 391\n",
            "Data columns (total 9 columns):\n",
            " #   Column        Non-Null Count  Dtype  \n",
            "---  ------        --------------  -----  \n",
            " 0   mpg           392 non-null    float64\n",
            " 1   cylinders     392 non-null    int64  \n",
            " 2   displacement  392 non-null    float64\n",
            " 3   horsepower    392 non-null    float64\n",
            " 4   weight        392 non-null    float64\n",
            " 5   acceleration  392 non-null    float64\n",
            " 6   model year    392 non-null    int64  \n",
            " 7   origin        392 non-null    int64  \n",
            " 8   car name      392 non-null    object \n",
            "dtypes: float64(5), int64(3), object(1)\n",
            "memory usage: 27.7+ KB\n"
          ],
          "name": "stdout"
        }
      ]
    },
    {
      "cell_type": "markdown",
      "metadata": {
        "id": "Ru-reAzn-PXF"
      },
      "source": [
        "총 392개의 데이터가 있고 9개의 정보들이 있습니다. \n",
        "\n",
        "여기서 car name 은 object로 자동차의 이름을 담고 있습니다. \n",
        "\n",
        "그리고 origin은 int로 정수 형태이지만 이것이 만들어진 도시로 categorical 한 값입니다(ex. 서울 : 1, 경기 : 2, ... ). \n",
        "\n",
        "그렇기 때문에 이번에 linear regression을 할 때는 car name, origin 값은 제외하고 생각하도록 하겠습니다. "
      ]
    },
    {
      "cell_type": "code",
      "metadata": {
        "colab": {
          "base_uri": "https://localhost:8080/"
        },
        "id": "ky1rcy-r9ySB",
        "outputId": "96fa10e0-d719-49e7-a425-ab190ba9f9b1"
      },
      "source": [
        "y_col = 'mpg'\n",
        "x_cols = mpg_data.columns.drop(['car name', 'origin', 'mpg'])  # also drop mpg column\n",
        "\n",
        "print(x_cols)"
      ],
      "execution_count": null,
      "outputs": [
        {
          "output_type": "stream",
          "text": [
            "Index(['cylinders', 'displacement', 'horsepower', 'weight', 'acceleration',\n",
            "       'model year'],\n",
            "      dtype='object')\n"
          ],
          "name": "stdout"
        }
      ]
    },
    {
      "cell_type": "markdown",
      "metadata": {
        "id": "k5UgbOa4AKAU"
      },
      "source": [
        "## 1.2 Data exploration\n",
        "\n",
        "먼저 linear regression을 진행하기 전에 자동차의 정보들과 연비와의 1대1 상관관계를 알아보겠습니다. \n",
        "\n",
        "시각화해서 보는 것이 가장 직관적으로 이해하기 쉽습니다. "
      ]
    },
    {
      "cell_type": "code",
      "metadata": {
        "colab": {
          "base_uri": "https://localhost:8080/",
          "height": 212
        },
        "id": "dgnPiuSNAFUr",
        "outputId": "7317c643-fe1a-4040-9d44-b44d8e7a23c4"
      },
      "source": [
        "seaborn.pairplot(data=mpg_data, height=5, aspect=1,\n",
        "             x_vars=x_cols,\n",
        "             y_vars=y_col);"
      ],
      "execution_count": null,
      "outputs": [
        {
          "output_type": "display_data",
          "data": {
            "image/png": "[encoded data removed]",
            "text/plain": [
              "<Figure size 2160x360 with 6 Axes>"
            ]
          },
          "metadata": {
            "tags": [],
            "needs_background": "light"
          }
        }
      ]
    },
    {
      "cell_type": "markdown",
      "metadata": {
        "id": "Rk4nV6Z8B6mH"
      },
      "source": [
        "Accerlation과 model_year 의 정보는 양의 상관관계에 있고 나머지는 음의 상관관계에 있습니다. \n",
        "\n",
        "이러한 상관관계를 통해서 linear model 이 연비를 예측하는데 충분하다는 것을 알 수 있습니다."
      ]
    },
    {
      "cell_type": "markdown",
      "metadata": {
        "id": "XA2UWx88Xf2a"
      },
      "source": [
        "## 1.3 Linear model in matrix form\n",
        "\n",
        "Multiple linear regression 에서 입력 변수가 $d$개라고 하면 우리가 찾아야 하는 model은 다음과 같습니다. \n",
        "$$\\hat{y} = w_0 + w_1x_1 + w_2x_2 + ... + w_dx_d$$\n",
        "여기서 $\\hat{y}$는 우리가 예측한 값입니다. 여기서 편의를 위해 $x_0=1$ 를 추가해서 위 식을 정리하면 다음과 같게 됩니다. \n",
        "$$\\hat{y} = \\sum_{i=0}^d w_ix_i = \\mathbf{x}^\\top \\mathbf{w}$$\n",
        "여기서 $\\mathbf{x} = (x_0, x_1, ... , x_d)$로 입력 변수들로 이루어진 벡터이고  $\\mathbf{w} = (w_0, w_1, ... , w_d)$로 입력 변수에 곱해지는 계수들로 이루어진 벡터입니다. \n",
        "\n",
        "이제 우리는 392개의 데이터를 가지고 있습니다. 이를 $N$개라고 생각하고 식을 나열해보면 다음과 같습니다. \n",
        "$$\\hat{y}^{(1)} = w_0x_0^{(1)} + w_1x_1^{(1)} + w_2x_2^{(1)} + ... + w_dx_d^{(1)}$$\n",
        "$$\\hat{y}^{(2)} = w_0x_0^{(2)} + w_1x_1^{(2)} + w_2x_2^{(2)} + ... + w_dx_d^{(2)}$$\n",
        "$$\\vdots$$\n",
        "$$\\hat{y}^{(N)} = w_0x_0^{(N)} + w_1x_1^{(N)} + w_2x_2^{(N)} + ... + w_dx_d^{(N)}$$\n",
        "이제 최종적으로 위의 식을 한번에 행렬의 형태로 표현하면 다음과 같습니다. \n",
        "\n",
        "$$\\hat{\\mathbf{y}} = \\begin{bmatrix}\n",
        "\\hat{y}^{(1)}  \\\\\n",
        "\\hat{y}^{(2)}\\\\\n",
        "\\vdots  \\\\\n",
        "\\hat{y}^{(N)}\n",
        "\\end{bmatrix} =\n",
        "\\begin{bmatrix}\n",
        "x_0^{(1)} &  x_1^{(1)} & \\cdots & x_d^{(1)} \\\\\n",
        "x_0^{(2)} &  x_1^{(2)} & \\cdots & x_d^{(2)} \\\\\n",
        "\\vdots & \\vdots & \\ddots & \\vdots \\\\\n",
        "x_0^{(N)} &  x_1^{(N)} & \\cdots & x_d^{(N)}\n",
        "\\end{bmatrix} \\begin{bmatrix}\n",
        "w_0  \\\\\n",
        "w_1\\\\\n",
        "\\vdots  \\\\\n",
        "w_d \n",
        "\\end{bmatrix} \n",
        "= \\mathbf{X}\\mathbf{w}$$\n",
        "\n",
        "여기서 $\\mathbf{x}$ 는 입력 변수들을 행렬의 형태로 나타낸 것입니다. 그리고 맨 앞에 $x_0 = 1$을 추가했었기 때문에 $\\mathbf{X}$의 맨 왼쪽 행렬은 1로 이루어져 있습니다. \n",
        "\n",
        "그리고 $\\hat{\\mathbf{y}}$는 예측한 변수들을 모아놓은 벡터이고, $\\mathbf{y}$는 실제 연비들을 모아놓은 벡터입니다. "
      ]
    },
    {
      "cell_type": "markdown",
      "metadata": {
        "id": "2nqv8t9Ebp6G"
      },
      "source": [
        "이제 이것들을 코드로 표현해 보겠습니다. "
      ]
    },
    {
      "cell_type": "code",
      "metadata": {
        "id": "Gfuq496rB0n2"
      },
      "source": [
        "from autograd import numpy\n",
        "from autograd import grad"
      ],
      "execution_count": null,
      "outputs": []
    },
    {
      "cell_type": "code",
      "metadata": {
        "colab": {
          "base_uri": "https://localhost:8080/"
        },
        "id": "GIgSg160btY0",
        "outputId": "fdbbb339-fff5-40e5-ff38-8e535f26ddc0"
      },
      "source": [
        "X = mpg_data[x_cols].values\n",
        "X = numpy.hstack((numpy.ones((X.shape[0], 1)), X))  # pad 1s to the left of input matrix\n",
        "y = mpg_data[y_col].values\n",
        "\n",
        "print(\"X.shape = {}, y.shape = {}\".format(X.shape, y.shape))"
      ],
      "execution_count": null,
      "outputs": [
        {
          "output_type": "stream",
          "text": [
            "X.shape = (392, 7), y.shape = (392,)\n"
          ],
          "name": "stdout"
        }
      ]
    },
    {
      "cell_type": "markdown",
      "metadata": {
        "id": "PwSqtrgMcMh6"
      },
      "source": [
        "이제 cost function을 정의해보겠습니다. [HW10]에서 했던 것처럼 mean squared error 를 사용하겠습니다. \n",
        "\n",
        "$$L(\\mathbf{y}, \\hat{\\mathbf{y}}) = \\frac{1}{N} \\sum_{i=1}^N (y^{(i)} - \\hat{y}^{(i)})^2$$\n",
        "\n",
        "Cost function과 우리의 linear regression model을 코드로 나타내면 다음과 같습니다. "
      ]
    },
    {
      "cell_type": "code",
      "metadata": {
        "id": "kyO1e-EqbwDC"
      },
      "source": [
        "def linear_regression(params, X):\n",
        "    '''\n",
        "    The linear regression model in matrix form.\n",
        "    Arguments:\n",
        "      params: 1D array of weights for the linear model\n",
        "      X     : 2D array of input values\n",
        "    Returns:\n",
        "      1D array of predicted values\n",
        "    '''\n",
        "    return numpy.dot(X, params)\n",
        "\n",
        "def cost_function(params, model, X, y):\n",
        "    '''\n",
        "    The mean squared error loss function.\n",
        "    Arguments:\n",
        "      params: 1D array of weights for the linear model\n",
        "      model : function for the linear regression model\n",
        "      X     : 2D array of input values\n",
        "      y     : 1D array of predicted values\n",
        "    Returns:\n",
        "      float, mean squared error\n",
        "    '''\n",
        "    y_pred = model(params, X)\n",
        "    return numpy.mean( numpy.sum((y-y_pred)**2) )"
      ],
      "execution_count": null,
      "outputs": []
    },
    {
      "cell_type": "markdown",
      "metadata": {
        "id": "ZBQ-cYDMc3mm"
      },
      "source": [
        "## 1.4 Find the weights using gradient descent\n",
        "\n",
        "이제 Gradient descent로 cost function을 최소로 해주는 계수를 찾아보겠습니다. autograd.grad()함수로 기울기를 구해서 사용하겠습니다. "
      ]
    },
    {
      "cell_type": "code",
      "metadata": {
        "id": "9IPZlZmuc2qR"
      },
      "source": [
        "gradient = grad(cost_function)"
      ],
      "execution_count": null,
      "outputs": []
    },
    {
      "cell_type": "markdown",
      "metadata": {
        "id": "UM_mhyzrdz74"
      },
      "source": [
        "기울기값이 잘 구해지는지 랜덤한 값을 통해 알아보겠습니다. "
      ]
    },
    {
      "cell_type": "code",
      "metadata": {
        "colab": {
          "base_uri": "https://localhost:8080/"
        },
        "id": "jxc9WQ1Gdrd4",
        "outputId": "0e46fa06-a37f-4d86-fa48-08240869717c"
      },
      "source": [
        "gradient(numpy.random.rand(X.shape[1]), linear_regression, X, y)"
      ],
      "execution_count": null,
      "outputs": [
        {
          "output_type": "execute_result",
          "data": {
            "text/plain": [
              "array([1.48791513e+06, 8.84951544e+06, 3.34514622e+08, 1.70850327e+08,\n",
              "       4.81359397e+09, 2.25622853e+07, 1.12505777e+08])"
            ]
          },
          "metadata": {
            "tags": []
          },
          "execution_count": 11
        }
      ]
    },
    {
      "cell_type": "markdown",
      "metadata": {
        "id": "XcagwYNaeADr"
      },
      "source": [
        "기울기 값이 매우 크게 나오는 것을 알 수 있습니다. 한번 gradient descent를 진행해보겠습니다. "
      ]
    },
    {
      "cell_type": "code",
      "metadata": {
        "colab": {
          "base_uri": "https://localhost:8080/"
        },
        "id": "qvyQjW7dd-bw",
        "outputId": "7c0568e2-93f1-4985-879f-a62a3193f25f"
      },
      "source": [
        "max_iter = 30\n",
        "alpha = 0.001\n",
        "params = numpy.zeros(X.shape[1])\n",
        "\n",
        "for i in range(max_iter):\n",
        "    descent = gradient(params, linear_regression, X, y)\n",
        "    params = params - descent * alpha\n",
        "    loss = cost_function(params, linear_regression, X, y)\n",
        "    if i%5 == 0:\n",
        "        print(\"iteration {}, loss = {}\".format(i, loss))"
      ],
      "execution_count": null,
      "outputs": [
        {
          "output_type": "stream",
          "text": [
            "iteration 0, loss = 9.668521029386564e+18\n",
            "iteration 5, loss = 5.933187473385046e+87\n",
            "iteration 10, loss = 3.64096169342092e+156\n",
            "iteration 15, loss = 2.2343136994110975e+225\n",
            "iteration 20, loss = 1.3711096484197387e+294\n",
            "iteration 25, loss = inf\n"
          ],
          "name": "stdout"
        },
        {
          "output_type": "stream",
          "text": [
            "/usr/local/lib/python3.7/dist-packages/ipykernel_launcher.py:24: RuntimeWarning: overflow encountered in square\n",
            "/usr/local/lib/python3.7/dist-packages/autograd/tracer.py:48: RuntimeWarning: overflow encountered in power\n",
            "  return f_raw(*args, **kwargs)\n"
          ],
          "name": "stderr"
        }
      ]
    },
    {
      "cell_type": "markdown",
      "metadata": {
        "id": "GLi7DPWBeV39"
      },
      "source": [
        "loss가 무한대를 넘어가서 오류가 발생한 것을 알 수 있습니다. 이런 일이 왜 일어난 것일까요? "
      ]
    },
    {
      "cell_type": "markdown",
      "metadata": {
        "id": "v3yif1eqexIl"
      },
      "source": [
        "## 1.5 Feature scaling\n",
        "\n",
        "Gradient descent를 진행했더니 loss가 무한대로 발산했습니다. 이것은 입력 변수들 중에 특정 값들이 너무 커서 일어난 일입니다. 입력 데이터들의 max 와 min 값을 한번 출력해보겠습니다. "
      ]
    },
    {
      "cell_type": "code",
      "metadata": {
        "colab": {
          "base_uri": "https://localhost:8080/",
          "height": 111
        },
        "id": "S7x8iebHeI2e",
        "outputId": "cc8ed9e1-e8aa-4d46-d911-9ef838cd8e2f"
      },
      "source": [
        "mpg_data[x_cols].describe().loc[['max', 'min']]"
      ],
      "execution_count": null,
      "outputs": [
        {
          "output_type": "execute_result",
          "data": {
            "text/html": [
              "<div>\n",
              "<style scoped>\n",
              "    .dataframe tbody tr th:only-of-type {\n",
              "        vertical-align: middle;\n",
              "    }\n",
              "\n",
              "    .dataframe tbody tr th {\n",
              "        vertical-align: top;\n",
              "    }\n",
              "\n",
              "    .dataframe thead th {\n",
              "        text-align: right;\n",
              "    }\n",
              "</style>\n",
              "<table border=\"1\" class=\"dataframe\">\n",
              "  <thead>\n",
              "    <tr style=\"text-align: right;\">\n",
              "      <th></th>\n",
              "      <th>cylinders</th>\n",
              "      <th>displacement</th>\n",
              "      <th>horsepower</th>\n",
              "      <th>weight</th>\n",
              "      <th>acceleration</th>\n",
              "      <th>model year</th>\n",
              "    </tr>\n",
              "  </thead>\n",
              "  <tbody>\n",
              "    <tr>\n",
              "      <th>max</th>\n",
              "      <td>8.0</td>\n",
              "      <td>455.0</td>\n",
              "      <td>230.0</td>\n",
              "      <td>5140.0</td>\n",
              "      <td>24.8</td>\n",
              "      <td>82.0</td>\n",
              "    </tr>\n",
              "    <tr>\n",
              "      <th>min</th>\n",
              "      <td>3.0</td>\n",
              "      <td>68.0</td>\n",
              "      <td>46.0</td>\n",
              "      <td>1613.0</td>\n",
              "      <td>8.0</td>\n",
              "      <td>70.0</td>\n",
              "    </tr>\n",
              "  </tbody>\n",
              "</table>\n",
              "</div>"
            ],
            "text/plain": [
              "     cylinders  displacement  horsepower  weight  acceleration  model year\n",
              "max        8.0         455.0       230.0  5140.0          24.8        82.0\n",
              "min        3.0          68.0        46.0  1613.0           8.0        70.0"
            ]
          },
          "metadata": {
            "tags": []
          },
          "execution_count": 13
        }
      ]
    },
    {
      "cell_type": "markdown",
      "metadata": {
        "id": "IvZbWwcbismN"
      },
      "source": [
        "weight 값을 보면 다른 값들에 비해 매우 큰 것을 알 수 있습니다. 그래서 우리는 값들을 비슷한 크기를 가지도록 바꿔줄 필요가 있습니다. 이번에 사용할 방법은 min-max scaling으로 모든 데이터의 범위를 최대 1, 최소 0으로 맞춰줍니다. 변환하는 식은 다음과 같습니다. \n",
        "\n",
        "$$x' = \\frac{x - \\min(x)}{\\max(x)-\\min(x)}$$\n",
        "\n",
        "우리는 이 normalization을 scikit-learn이라는 패키지를 이용해서 하도록 하겠습니다. "
      ]
    },
    {
      "cell_type": "code",
      "metadata": {
        "colab": {
          "base_uri": "https://localhost:8080/",
          "height": 111
        },
        "id": "K3jfgPCCirdb",
        "outputId": "df69183e-6f89-45d8-f399-8b1ded90feca"
      },
      "source": [
        "from sklearn.preprocessing import MinMaxScaler\n",
        "\n",
        "min_max_scaler = MinMaxScaler()\n",
        "X_scaled = min_max_scaler.fit_transform(mpg_data[x_cols])\n",
        "X_scaled = numpy.hstack((numpy.ones((X_scaled.shape[0], 1)), X_scaled)) \n",
        "\n",
        "pandas.DataFrame(X_scaled).describe().loc[['max', 'min']]"
      ],
      "execution_count": null,
      "outputs": [
        {
          "output_type": "execute_result",
          "data": {
            "text/html": [
              "<div>\n",
              "<style scoped>\n",
              "    .dataframe tbody tr th:only-of-type {\n",
              "        vertical-align: middle;\n",
              "    }\n",
              "\n",
              "    .dataframe tbody tr th {\n",
              "        vertical-align: top;\n",
              "    }\n",
              "\n",
              "    .dataframe thead th {\n",
              "        text-align: right;\n",
              "    }\n",
              "</style>\n",
              "<table border=\"1\" class=\"dataframe\">\n",
              "  <thead>\n",
              "    <tr style=\"text-align: right;\">\n",
              "      <th></th>\n",
              "      <th>0</th>\n",
              "      <th>1</th>\n",
              "      <th>2</th>\n",
              "      <th>3</th>\n",
              "      <th>4</th>\n",
              "      <th>5</th>\n",
              "      <th>6</th>\n",
              "    </tr>\n",
              "  </thead>\n",
              "  <tbody>\n",
              "    <tr>\n",
              "      <th>max</th>\n",
              "      <td>1.0</td>\n",
              "      <td>1.0</td>\n",
              "      <td>1.0</td>\n",
              "      <td>1.0</td>\n",
              "      <td>1.0</td>\n",
              "      <td>1.0</td>\n",
              "      <td>1.0</td>\n",
              "    </tr>\n",
              "    <tr>\n",
              "      <th>min</th>\n",
              "      <td>1.0</td>\n",
              "      <td>0.0</td>\n",
              "      <td>0.0</td>\n",
              "      <td>0.0</td>\n",
              "      <td>0.0</td>\n",
              "      <td>0.0</td>\n",
              "      <td>0.0</td>\n",
              "    </tr>\n",
              "  </tbody>\n",
              "</table>\n",
              "</div>"
            ],
            "text/plain": [
              "       0    1    2    3    4    5    6\n",
              "max  1.0  1.0  1.0  1.0  1.0  1.0  1.0\n",
              "min  1.0  0.0  0.0  0.0  0.0  0.0  0.0"
            ]
          },
          "metadata": {
            "tags": []
          },
          "execution_count": 14
        }
      ]
    },
    {
      "cell_type": "markdown",
      "metadata": {
        "id": "chm-n7rJkotN"
      },
      "source": [
        "0번째 행은 처음에 1을 추가해준 행이므로 1로 유지되는게 맞습니다. 이제 변화된 데이터로 다시 gradient descent를 진행해 보겠습니다. "
      ]
    },
    {
      "cell_type": "code",
      "metadata": {
        "colab": {
          "base_uri": "https://localhost:8080/"
        },
        "id": "nlT0GI3rkhS7",
        "outputId": "9a731d8b-2381-4d79-b2b0-e4e6fdf39e18"
      },
      "source": [
        "max_iter = 1000\n",
        "alpha = 0.001\n",
        "params = numpy.zeros(X.shape[1])\n",
        "\n",
        "for i in range(max_iter):\n",
        "    descent = gradient(params, linear_regression, X_scaled, y)\n",
        "    params = params - descent * alpha\n",
        "    loss = cost_function(params, linear_regression, X_scaled, y)\n",
        "    if i%100 == 0:\n",
        "        print(\"iteration {}, loss = {}\".format(i, loss))"
      ],
      "execution_count": null,
      "outputs": [
        {
          "output_type": "stream",
          "text": [
            "iteration 0, loss = 116081.11124253299\n",
            "iteration 100, loss = 5035.737208606848\n",
            "iteration 200, loss = 4694.653830594688\n",
            "iteration 300, loss = 4613.631473760375\n",
            "iteration 400, loss = 4583.327630964672\n",
            "iteration 500, loss = 4568.155268087917\n",
            "iteration 600, loss = 4559.268593877387\n",
            "iteration 700, loss = 4553.692765631068\n",
            "iteration 800, loss = 4550.09985725416\n",
            "iteration 900, loss = 4547.761957132873\n"
          ],
          "name": "stdout"
        }
      ]
    },
    {
      "cell_type": "markdown",
      "metadata": {
        "id": "vnAd6Di_lA3H"
      },
      "source": [
        "params가 학습 완료되었습니다. 학습된 params는 다음과 같고, 우리는 예측 값을 params와 $\\mathbf{X}$의 곱으로 나타낼 수 있습니다. "
      ]
    },
    {
      "cell_type": "code",
      "metadata": {
        "colab": {
          "base_uri": "https://localhost:8080/"
        },
        "id": "MG6gUby-k5Hw",
        "outputId": "777e423f-0d22-4a5c-f908-6bf54a524046"
      },
      "source": [
        "params"
      ],
      "execution_count": null,
      "outputs": [
        {
          "output_type": "execute_result",
          "data": {
            "text/plain": [
              "array([ 27.56342896,  -1.24000064,   1.70706502,  -0.2853682 ,\n",
              "       -23.08358717,   1.06664226,   8.99271696])"
            ]
          },
          "metadata": {
            "tags": []
          },
          "execution_count": 16
        }
      ]
    },
    {
      "cell_type": "code",
      "metadata": {
        "id": "wl5BzeN0lNPI"
      },
      "source": [
        "y_pred_gd = X_scaled @ params"
      ],
      "execution_count": null,
      "outputs": []
    },
    {
      "cell_type": "markdown",
      "metadata": {
        "id": "dA5y3xT0lhdC"
      },
      "source": [
        "## 1.6 How accurate is the model?\n",
        "\n",
        "이제 우리가 만든 모델이 얼마나 정확한지 알아보도록 하겠습니다. Regression 문제에서는 주로 두개의 기본 지표가 있습니다. Mean absolute error(MAE)와 root mean squared error(RMSE)입니다. 두개의 식은 다음과 같습니다.\n",
        "\n",
        "$$\\text{MAE}(\\mathbf{y}, \\hat{\\mathbf{y}}) = \\frac{1}{N} \\sum_{i=1}^N \\left\\vert y^{(i)} - \\hat{y}^{(i)}\\right\\vert$$\n",
        "$$\\text{RMSE}(\\mathbf{y}, \\hat{\\mathbf{y}}) =\\sqrt{ \\frac{1}{N} \\sum_{i=1}^N (y^{(i)} - \\hat{y}^{(i)})^2}$$\n",
        "\n",
        "이 지표들도 scikit-learn 패키지를 통해서 사용해보겠습니다. "
      ]
    },
    {
      "cell_type": "code",
      "metadata": {
        "colab": {
          "base_uri": "https://localhost:8080/"
        },
        "id": "iD-AJmBqpQ-M",
        "outputId": "6e9acfbe-ed41-440e-cf85-551b6c52a64b"
      },
      "source": [
        "from sklearn.metrics import mean_absolute_error, mean_squared_error\n",
        "\n",
        "mae = mean_absolute_error(y, y_pred_gd)\n",
        "rmse = mean_squared_error(y, y_pred_gd, squared=False)\n",
        "print(\"mae  = {}\".format(mae))\n",
        "print(\"rmse = {}\".format(rmse))"
      ],
      "execution_count": null,
      "outputs": [
        {
          "output_type": "stream",
          "text": [
            "mae  = 2.613991601156043\n",
            "rmse = 3.40552056741184\n"
          ],
          "name": "stdout"
        }
      ]
    },
    {
      "cell_type": "markdown",
      "metadata": {
        "id": "aVlwlDQe0N-Y"
      },
      "source": [
        "## 2. Gradient descent land global temperature anomaly dataset\n",
        "\n",
        "먼저 어제 사용한 Dataset을 다시 불러오겠습니다. "
      ]
    },
    {
      "cell_type": "code",
      "metadata": {
        "colab": {
          "base_uri": "https://localhost:8080/"
        },
        "id": "FPHX8dvVrBSf",
        "outputId": "3d69b1d2-4814-46a8-cbc0-02afb0db3b7a"
      },
      "source": [
        "from urllib.request import urlretrieve\n",
        "URL = 'http://go.gwu.edu/engcomp1data5?accessType=DOWNLOAD'\n",
        "urlretrieve(URL, 'land_global_temperature_anomaly-1880-2016.csv')"
      ],
      "execution_count": null,
      "outputs": [
        {
          "output_type": "execute_result",
          "data": {
            "text/plain": [
              "('land_global_temperature_anomaly-1880-2016.csv',\n",
              " <http.client.HTTPMessage at 0x7f1e2017e450>)"
            ]
          },
          "metadata": {
            "tags": []
          },
          "execution_count": 19
        }
      ]
    },
    {
      "cell_type": "code",
      "metadata": {
        "id": "wzQWS2nErLni"
      },
      "source": [
        "import numpy\n",
        "import sympy"
      ],
      "execution_count": null,
      "outputs": []
    },
    {
      "cell_type": "code",
      "metadata": {
        "id": "LGuW8S_1rG51"
      },
      "source": [
        "fname = '/content/land_global_temperature_anomaly-1880-2016.csv'\n",
        "\n",
        "year, temp_anomaly = numpy.loadtxt(fname, delimiter=',', skiprows=5, unpack=True)"
      ],
      "execution_count": null,
      "outputs": []
    },
    {
      "cell_type": "code",
      "metadata": {
        "colab": {
          "base_uri": "https://localhost:8080/",
          "height": 370
        },
        "id": "VPmLUvl6ryZT",
        "outputId": "be759cbe-9f29-41b6-be50-c85a0fbfc9bd"
      },
      "source": [
        "from matplotlib import pyplot\n",
        "%matplotlib inline\n",
        "\n",
        "pyplot.rc('font', family='serif', size='18')\n",
        "\n",
        "#You can set the size of the figure by doing:\n",
        "pyplot.figure(figsize=(10,5))\n",
        "\n",
        "#Plotting\n",
        "pyplot.plot(year, temp_anomaly, color='#2929a3', linestyle='-', linewidth=1) \n",
        "pyplot.title('Land global temperature anomalies. \\n')\n",
        "pyplot.xlabel('Year')\n",
        "pyplot.ylabel('Land temperature anomaly [°C]')\n",
        "pyplot.grid();"
      ],
      "execution_count": null,
      "outputs": [
        {
          "output_type": "display_data",
          "data": {
            "image/png": "[encoded data removed]",
            "text/plain": [
              "<Figure size 720x360 with 1 Axes>"
            ]
          },
          "metadata": {
            "tags": [],
            "needs_background": "light"
          }
        }
      ]
    },
    {
      "cell_type": "markdown",
      "metadata": {
        "id": "KCFGrXWKq6hL"
      },
      "source": [
        "어제는 직접 계산을 하는 방법으로 linear regression을 진행하였습니다. 이번에는 gradient descent 방법으로 해보겠습니다. \n",
        "\n",
        "Linear regression 를 하기 위해서 먼저 직선을 정의합니다. \n",
        "\n",
        "$$f(x_i) = wx + b$$\n",
        "\n",
        "그 다음 수업 시간에 배운 cost function을 정의하도록 하겠습니다. 우리가 최소화 해야 할 cost function은 다음과 같습니다. \n",
        "\n",
        "$$\\frac{1}{n} \\sum_{i=1}^n (y_i - f(x_i))^2 = \\frac{1}{n} \\sum_{i=1}^n (y_i - (wx_i + b))^2$$\n",
        "\n",
        "이제 코드를 통해 접근해 보도록 하겠습니다."
      ]
    },
    {
      "cell_type": "markdown",
      "metadata": {
        "id": "QOZpnSukj7Lx"
      },
      "source": [
        "먼저 cost function을 정의해보겠습니다. "
      ]
    },
    {
      "cell_type": "code",
      "metadata": {
        "colab": {
          "base_uri": "https://localhost:8080/",
          "height": 39
        },
        "id": "NTXSbAmFz0MG",
        "outputId": "0a072c51-05e4-4a3d-f500-a2adcc1e4511"
      },
      "source": [
        "w, b, x, y = sympy.symbols('w b x y')\n",
        "\n",
        "cost_function = (w*x + b - y)**2\n",
        "cost_function     "
      ],
      "execution_count": null,
      "outputs": [
        {
          "output_type": "execute_result",
          "data": {
            "text/latex": "$\\displaystyle \\left(b + w x - y\\right)^{2}$",
            "text/plain": [
              "(b + w*x - y)**2"
            ]
          },
          "metadata": {
            "tags": []
          },
          "execution_count": 23
        }
      ]
    },
    {
      "cell_type": "code",
      "metadata": {
        "id": "Gej8tdQwlTCv"
      },
      "source": [
        "grad_b = sympy.lambdify([w,b,x,y], cost_function.diff(b), 'numpy')\n",
        "grad_w = sympy.lambdify([w,b,x,y], cost_function.diff(w), 'numpy')"
      ],
      "execution_count": null,
      "outputs": []
    },
    {
      "cell_type": "code",
      "metadata": {
        "colab": {
          "base_uri": "https://localhost:8080/"
        },
        "id": "3crdqGA2j4an",
        "outputId": "17e3aa92-28eb-4f13-ed64-abd9ac9a492e"
      },
      "source": [
        "w = 0\n",
        "b = 0\n",
        "\n",
        "for i in range(1000):\n",
        "    descent_b = numpy.sum(grad_b(w,b,year,temp_anomaly))/len(year)\n",
        "    descent_w = numpy.sum(grad_w(w,b,year,temp_anomaly))/len(year)\n",
        "    w = w - descent_w*0.001 # with 0.01 the step size\n",
        "    b = b - descent_b*0.001 \n",
        "\n",
        "print(w)\n",
        "print(b)"
      ],
      "execution_count": null,
      "outputs": [
        {
          "output_type": "stream",
          "text": [
            "nan\n",
            "nan\n"
          ],
          "name": "stdout"
        },
        {
          "output_type": "stream",
          "text": [
            "<string>:2: RuntimeWarning: overflow encountered in multiply\n",
            "/usr/local/lib/python3.7/dist-packages/ipykernel_launcher.py:7: RuntimeWarning: invalid value encountered in double_scalars\n",
            "  import sys\n"
          ],
          "name": "stderr"
        }
      ]
    },
    {
      "cell_type": "markdown",
      "metadata": {
        "id": "Q97lRfVGriWD"
      },
      "source": [
        "이번에도 발산하였습니다. 이것도 위의 예시와 같이 우리가 예측해야할 값의 범위와 우리의 입력 변수의 값의 범위가 많이 차이나서 일어난 일입니다. 그래서 normalization을 진행하여 다시 해보겠습니다. 이번에는 Z-Score normalization을 사용하겠습니다. 식은 다음과 같습니다. \n",
        "\n",
        "$$x' = \\frac{x - \\text{mean}(x)}{\\text{std}(x)}$$\n",
        "\n",
        "여기서 mean 은 평균이고 std는 표준 편차입니다. 코드로 표현해보겠습니다. "
      ]
    },
    {
      "cell_type": "code",
      "metadata": {
        "id": "5KxIm4VKrvO1"
      },
      "source": [
        "year_scaled = (year - year.mean())/year.std()\n",
        "temp_anomaly_scaled = (temp_anomaly - temp_anomaly.mean()) / temp_anomaly.std()"
      ],
      "execution_count": null,
      "outputs": []
    },
    {
      "cell_type": "markdown",
      "metadata": {
        "id": "B_O0zSy0syst"
      },
      "source": [
        "이게 다시 gradient descent 를 진행해보겠습니다. "
      ]
    },
    {
      "cell_type": "code",
      "metadata": {
        "colab": {
          "base_uri": "https://localhost:8080/"
        },
        "id": "vZTEE_Cqs1yP",
        "outputId": "a5c2fcf9-c22a-42ab-9cc5-39af4427921a"
      },
      "source": [
        "w = 0\n",
        "b = 0\n",
        "\n",
        "for i in range(1000):\n",
        "    descent_b = numpy.sum(grad_b(w,b,year_scaled,temp_anomaly_scaled))/len(year_scaled)\n",
        "    descent_w = numpy.sum(grad_w(w,b,year_scaled,temp_anomaly_scaled))/len(year_scaled)\n",
        "    w = w - descent_w*0.001 # with 0.01 the step size\n",
        "    b = b - descent_b*0.001 \n",
        "\n",
        "print(w)\n",
        "print(b)"
      ],
      "execution_count": null,
      "outputs": [
        {
          "output_type": "stream",
          "text": [
            "0.756766964479979\n",
            "5.551763428541569e-17\n"
          ],
          "name": "stdout"
        }
      ]
    },
    {
      "cell_type": "markdown",
      "metadata": {
        "id": "VrIKsPBMs_bl"
      },
      "source": [
        "$w$ 와 $b$ 를 모두 구했습니다. 이제 그래프로 표현해보겠습니다. "
      ]
    },
    {
      "cell_type": "code",
      "metadata": {
        "id": "ks_X5tA9sslr"
      },
      "source": [
        "reg = b + w * year_scaled"
      ],
      "execution_count": null,
      "outputs": []
    },
    {
      "cell_type": "code",
      "metadata": {
        "colab": {
          "base_uri": "https://localhost:8080/",
          "height": 339
        },
        "id": "lF7e-BAblHEA",
        "outputId": "16cbcbb6-2fc5-4550-b1fd-2ec055c96717"
      },
      "source": [
        "pyplot.figure(figsize=(10, 5))\n",
        "\n",
        "pyplot.plot(year_scaled, temp_anomaly_scaled, color='#2929a3', linestyle='-', linewidth=1, alpha=0.5) \n",
        "pyplot.plot(year_scaled, reg, 'k--', linewidth=2, label='Linear regression')\n",
        "pyplot.xlabel('Year')\n",
        "pyplot.ylabel('Land temperature anomaly [°C]')\n",
        "pyplot.legend(loc='best', fontsize=15)\n",
        "pyplot.grid();"
      ],
      "execution_count": null,
      "outputs": [
        {
          "output_type": "display_data",
          "data": {
            "image/png": "[encoded data removed]",
            "text/plain": [
              "<Figure size 720x360 with 1 Axes>"
            ]
          },
          "metadata": {
            "tags": [],
            "needs_background": "light"
          }
        }
      ]
    },
    {
      "cell_type": "markdown",
      "metadata": {
        "id": "oDADNZoltCYG"
      },
      "source": [
        "오늘은 multiple linear regression을 실습을 통해서 배워보았습니다. Feature scaling(normalization)의 중요성을 실습을 진행하면서 알아보고 개선해보았습니다. \n"
      ]
    }
  ]
}