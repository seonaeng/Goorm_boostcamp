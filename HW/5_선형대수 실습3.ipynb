{
  "nbformat": 4,
  "nbformat_minor": 0,
  "metadata": {
    "colab": {
      "name": "[HW5] Practice_3.ipynb의 사본",
      "provenance": [],
      "collapsed_sections": [],
      "toc_visible": true
    },
    "kernelspec": {
      "name": "python3",
      "display_name": "Python 3"
    },
    "language_info": {
      "name": "python"
    }
  },
  "cells": [
    {
      "cell_type": "markdown",
      "metadata": {
        "id": "BwDon6LSf1Is"
      },
      "source": [
        "# **[HW5] Practice_3**\n",
        "1. Install packages\n",
        "2. Determinant\n",
        "3. Change of basis\n",
        "4. Least Square\n",
        "\n",
        "선형대수 실습은, exercise 혹은 coding 문제풀이에 집중하기 보다는, 수업시간에 배웠던 개념들을 visualize 하면서 이를 폭넓게 이해하는 데에 초점을 맞추고 있습니다. 실습에서 사용한 예시 외에도, 다양한 matrix들을 visualize 하면서 개념을 익혀보시기 바랍니다."
      ]
    },
    {
      "cell_type": "markdown",
      "metadata": {
        "id": "e4iquuOQj1g9"
      },
      "source": [
        "# 1. Install packages\n",
        "\n",
        "> 필요한 package를 설치하고 import합니다"
      ]
    },
    {
      "cell_type": "code",
      "metadata": {
        "id": "z8OocsmqXtiH"
      },
      "source": [
        "# visualization을 위한 helper code입니다.\n",
        "from urllib.request import urlretrieve\n",
        "URL = 'https://go.gwu.edu/engcomp4plot'\n",
        "urlretrieve(URL, 'plot_helper.py')\n",
        "\n",
        "import sys\n",
        "sys.path.append('../scripts/')\n",
        "\n",
        "# 다음 세 custom function (1)plot_vector, (2)plot_linear_transformation, (3) plot_linear_transformations\n",
        "# 을 사용할 것입니다.\n",
        "from plot_helper import *"
      ],
      "execution_count": null,
      "outputs": []
    },
    {
      "cell_type": "code",
      "metadata": {
        "id": "h6dldC1EXv7O"
      },
      "source": [
        "import matplotlib.pyplot as plt\n",
        "import numpy as np\n",
        "from mpl_toolkits.mplot3d import Axes3D\n",
        "import scipy as sp\n",
        "import scipy.linalg\n",
        "import sympy as sy\n",
        "\n",
        "sy.init_printing() \n",
        "np.set_printoptions(precision=3)\n",
        "np.set_printoptions(suppress=True)"
      ],
      "execution_count": null,
      "outputs": []
    },
    {
      "cell_type": "code",
      "metadata": {
        "id": "UWDUsUGgiaQG"
      },
      "source": [
        "def plotVectors(vecs, colors, alpha=1):\n",
        "    \"\"\"\n",
        "    Determinant 섹션의 plot에 사용하기 위한 custom function입니다.\n",
        "\n",
        "    Parameters\n",
        "    ----------\n",
        "    vecs : plot할 vector(numpy array)의 list  (e.g., [[1, 3], [2, 2]] )\n",
        "    colors : 각 vector의 color  (e.g., ['red', 'blue'])\n",
        "    alpha : 투명도\n",
        "\n",
        "    Returns\n",
        "    -------\n",
        "    fig : figure\n",
        "    \"\"\"\n",
        "    plt.axvline(x=0, color='#A9A9A9', zorder=0)\n",
        "    plt.axhline(y=0, color='#A9A9A9', zorder=0)\n",
        "\n",
        "    for i in range(len(vecs)):\n",
        "        if (isinstance(alpha, list)):\n",
        "            alpha_i = alpha[i]\n",
        "        else:\n",
        "            alpha_i = alpha\n",
        "        x = np.concatenate([[0,0],vecs[i]])\n",
        "        plt.quiver([x[0]], [x[1]], [x[2]], [x[3]], angles='xy', \n",
        "                   scale_units='xy', scale=1, color=colors[i],alpha=alpha_i)"
      ],
      "execution_count": null,
      "outputs": []
    },
    {
      "cell_type": "markdown",
      "metadata": {
        "id": "U6ulr09UXybq"
      },
      "source": [
        "# 2. Determinant\n",
        "\n",
        "> 강의에서는 간략하게 다루고 넘어간 determinant에 대해 좀더 알아보겠습니다. 저번 수업 및 실습에서 배웠듯, matrix는 linear transformation으로 생각할 수 있습니다. Determinant는, 이러한 transformation이 일어날 때, \"multiplicative change\"가 일어나는 정도\" 라고 생각할 수 있습니다. Multiplicative change는 크게 두 가지를 생각하면 됩니다: (1) 어떠한 input이 matrix $A$를 통과하게 되면 \"부피(volume)\"가 얼마나 변하는가, (2) 어떠한 input이 matrix $A$를 통과하게 되면 \"방향(orientation)\"이 변하는가. 두 성질에 대해 각각 알아보겠습니다."
      ]
    },
    {
      "cell_type": "markdown",
      "metadata": {
        "id": "ivgUJvc0it6-"
      },
      "source": [
        "<center>\n",
        "<img src=\"https://github.com/akhilvasvani/Linear-Algebra-Basics/raw/6d4f0bd887d7b2c51fb0e95ad4f0659513631697/Chapters/2.11%20The%20Determinant/images/unit-square-area.png\n",
        "\"> <figcaption> 출처: Ref. [1]</figcaption>\n",
        "</center>"
      ]
    },
    {
      "cell_type": "markdown",
      "metadata": {
        "id": "Db6xlJzofOdR"
      },
      "source": [
        "### Example 1\n",
        "\n",
        "> 위 그림은 $\\mathbf{i}, \\mathbf{j}$로 이루어진 unit cube 입니다. $\\mathbf{i}, \\mathbf{j}$가 각각 길이가 1이므로, 넓이도 1임을 알 수 있습니다."
      ]
    },
    {
      "cell_type": "code",
      "metadata": {
        "colab": {
          "base_uri": "https://localhost:8080/",
          "height": 762
        },
        "id": "COj09ozxhe8R",
        "outputId": "c580bf2c-090b-4b6b-a655-33cde0d5f7f4"
      },
      "source": [
        "orange = '#FF9A13'\n",
        "blue = '#1190FF'\n",
        "    \n",
        "i = [0, 1]\n",
        "j = [1, 0]\n",
        "\n",
        "fig = plt.figure(figsize = (4,4))\n",
        "plotVectors([i, j], [[blue], [orange]], alpha=1)\n",
        "plt.plot([0, 1], [1, 1], ls = '--', color = 'black', alpha = .5)\n",
        "plt.plot([1, 1], [0, 1], ls = '--', color = 'black', alpha = .5)\n",
        "\n",
        "plt.xlim(-0.5, 3)\n",
        "plt.ylim(-0.5, 3)\n",
        "plt.show()"
      ],
      "execution_count": null,
      "outputs": [
        {
          "output_type": "display_data",
          "data": {
            "image/png": "[encoded data removed]",
            "text/plain": [
              "<Figure size 800x800 with 1 Axes>"
            ]
          },
          "metadata": {
            "tags": [],
            "needs_background": "light"
          }
        }
      ]
    },
    {
      "cell_type": "markdown",
      "metadata": {
        "id": "KhsW6UHBiy1D"
      },
      "source": [
        "> 이제 위 vector를 matrix $A = \\begin{bmatrix} 2 & 0 \\\\ 0 & 2 \\end{bmatrix}$에 통과시켜 보겠습니다. "
      ]
    },
    {
      "cell_type": "code",
      "metadata": {
        "colab": {
          "base_uri": "https://localhost:8080/",
          "height": 762
        },
        "id": "3-pZ0UrqjAKL",
        "outputId": "38615ef4-c064-43a8-b71e-1cc423c049e8"
      },
      "source": [
        "A = np.array([[2, 0], [0, 2]])\n",
        "\n",
        "new_i = A.dot(i)\n",
        "new_j = A.dot(j)\n",
        "\n",
        "fig = plt.figure(figsize = (4,4))\n",
        "plotVectors([new_i, new_j], [[blue], [orange]])\n",
        "plt.plot([0, 2], [2, 2], ls = '--', color = 'black', alpha = .5)\n",
        "plt.plot([2, 2], [0, 2], ls = '--', color = 'black', alpha = .5)\n",
        "\n",
        "plt.xlim(-0.5, 3)\n",
        "plt.ylim(-0.5, 3)\n",
        "plt.show()"
      ],
      "execution_count": null,
      "outputs": [
        {
          "output_type": "display_data",
          "data": {
            "image/png": "[encoded data removed]",
            "text/plain": [
              "<Figure size 800x800 with 1 Axes>"
            ]
          },
          "metadata": {
            "tags": [],
            "needs_background": "light"
          }
        }
      ]
    },
    {
      "cell_type": "markdown",
      "metadata": {
        "id": "RU4NUzqEjZOb"
      },
      "source": [
        "> 예상하셨겠지만, $A$는 diagonal matrix이기 때문에 $\\mathbf{i}, \\mathbf{j}$ 를 각각 2배로 rescale 함을 알 수 있습니다 ($\\mathbf{i,j} \\rightarrow \\mathbf{2i,2j}$). 따라서 주황색, 파랑색 vector는 rotate, reflection 등이 없이 각자 2배 길어지는 것이 전부입니다. 따라서 넓이는 4(사각형 넓이 = 밑변 * 높이)가 됐습니다. 이제 determinant를 계산해봅시다."
      ]
    },
    {
      "cell_type": "code",
      "metadata": {
        "colab": {
          "base_uri": "https://localhost:8080/",
          "height": 37
        },
        "id": "4XEpejptj9dn",
        "outputId": "c34e15b9-c4d7-42ff-a1d3-f3a038613735"
      },
      "source": [
        "np.linalg.det(A)"
      ],
      "execution_count": null,
      "outputs": [
        {
          "output_type": "execute_result",
          "data": {
            "image/png": "[encoded data removed]",
            "text/latex": "$\\displaystyle 4.0$",
            "text/plain": [
              "4.0"
            ]
          },
          "metadata": {
            "tags": []
          },
          "execution_count": 115
        }
      ]
    },
    {
      "cell_type": "markdown",
      "metadata": {
        "id": "Nghagc3Qj-YE"
      },
      "source": [
        "> 넓이가 1에서 4, 즉 volume 4배가 됐는데 이는 $A$의 determinant와 일치함을 알 수 있습니다.\n",
        "\n",
        "### Example 2\n",
        "\n",
        "이제 두 번째 성질, 방향(orientation)에 대해 알아보겠습니다. 이번 예시에선 $\\mathbf{i}, \\mathbf{j}$로 이루어진 unit cube에 $B = \\begin{bmatrix} -2 & 0 \\\\ 0 & 2 \\end{bmatrix}$를 통과시켜 보겠습니다."
      ]
    },
    {
      "cell_type": "code",
      "metadata": {
        "colab": {
          "base_uri": "https://localhost:8080/",
          "height": 762
        },
        "id": "uXczgCfFkJyi",
        "outputId": "00ca93e5-1f40-433e-95de-13e7b6358d05"
      },
      "source": [
        "orange = '#FF9A13'\n",
        "blue = '#1190FF'\n",
        "    \n",
        "i = [0, 1]\n",
        "j = [1, 0]\n",
        "\n",
        "fig = plt.figure(figsize = (4,4))\n",
        "plotVectors([i, j], [[blue], [orange]])\n",
        "plt.xlim(-0.5, 3)\n",
        "plt.ylim(-0.5, 3)\n",
        "plt.show()"
      ],
      "execution_count": null,
      "outputs": [
        {
          "output_type": "display_data",
          "data": {
            "image/png": "[encoded data removed]",
            "text/plain": [
              "<Figure size 800x800 with 1 Axes>"
            ]
          },
          "metadata": {
            "tags": [],
            "needs_background": "light"
          }
        }
      ]
    },
    {
      "cell_type": "code",
      "metadata": {
        "colab": {
          "base_uri": "https://localhost:8080/",
          "height": 762
        },
        "id": "AETyb6XWky9M",
        "outputId": "c82bfba5-040c-4d62-a929-ef74d321cf9d"
      },
      "source": [
        "B = np.array([[-2, 0], [0, 2]])\n",
        "new_i_1 = B.dot(i)\n",
        "new_j_1 = B.dot(j)\n",
        "\n",
        "fig = plt.figure(figsize = (4,4))\n",
        "plotVectors([new_i_1, new_j_1], [['#1190FF'], ['#FF9A13']])\n",
        "plt.xlim(-3, 0.5)\n",
        "plt.ylim(-0.5, 3)\n",
        "plt.show()"
      ],
      "execution_count": null,
      "outputs": [
        {
          "output_type": "display_data",
          "data": {
            "image/png": "[encoded data removed]",
            "text/plain": [
              "<Figure size 800x800 with 1 Axes>"
            ]
          },
          "metadata": {
            "tags": [],
            "needs_background": "light"
          }
        }
      ]
    },
    {
      "cell_type": "markdown",
      "metadata": {
        "id": "IlCYMHOhl_KL"
      },
      "source": [
        "> 이번에도 각 주황색, 파랑색 vector의 길이가 2배가 됐음은 동일합니다. 따라서 determinant의 절대값은 4가 나와야 합니다."
      ]
    },
    {
      "cell_type": "code",
      "metadata": {
        "colab": {
          "base_uri": "https://localhost:8080/",
          "height": 37
        },
        "id": "aZzp-fiimSJ9",
        "outputId": "2564298f-4deb-4f56-9ce4-a5e5cc4e8fa9"
      },
      "source": [
        "np.linalg.det(B)"
      ],
      "execution_count": null,
      "outputs": [
        {
          "output_type": "execute_result",
          "data": {
            "image/png": "[encoded data removed]",
            "text/latex": "$\\displaystyle -4.0$",
            "text/plain": [
              "-4.0"
            ]
          },
          "metadata": {
            "tags": []
          },
          "execution_count": 118
        }
      ]
    },
    {
      "cell_type": "markdown",
      "metadata": {
        "id": "43YS-Pe2mUKG"
      },
      "source": [
        "> 절대값이 4이긴 하지만, 앞에 - 부호가 붙어있음을 알 수 있습니다. 이는 방향(orientation)을 보존하지 못했다는 의미입니다. \n",
        "\n",
        "<center>\n",
        "<img src=\"https://github.com/akhilvasvani/Linear-Algebra-Basics/raw/6d4f0bd887d7b2c51fb0e95ad4f0659513631697/Chapters/2.11%20The%20Determinant/images/positive-negative-determinant.png\n",
        "\"> <figcaption> 출처: Ref. [1]</figcaption>\n",
        "</center>\n",
        "\n",
        "> 좌측 그림의 경우, 회전 혹은 길이의 조절을 통해서 변환이 가능한 경우입니다. 하지만 우측 그림의 경우, 오른쪽 h를 회전하거나 길이를 조정한다고 해서 왼쪽 h를 얻을 수 없고, reflection이 필요합니다. 이에 대해 더 구체적인 내용은, 다음 wiki(https://en.wikipedia.org/wiki/Determinant) 를 참조하시기 바랍니다.\n",
        "\n",
        "> 이와 같이, determinant의 절대값은 크기(volume)가 변화하는 정도, 부호는 방향(orientation)의 변화 여부를 알려줍니다.\n",
        "\n",
        "### Exercise\n",
        "\n",
        "> 어떤 matrix의 determinant가 0일 경우, 해당 matrix는 invertible하지 않습니다. 위의 \"multiplicative change\"로 해석했을 때, 이는 어떤 의미일까요?\n"
      ]
    },
    {
      "cell_type": "markdown",
      "metadata": {
        "id": "glLO4rzzzQti"
      },
      "source": [
        "연립방정식을 만족하는 유일한 해가 존재하지 않는다.\n",
        "즉, 만족하는 해의 개수가 무한대이거나 없다."
      ]
    },
    {
      "cell_type": "markdown",
      "metadata": {
        "id": "DsTIcYB2Xw43"
      },
      "source": [
        "# Change of basis\n",
        "\n",
        "> 저번 실습 시간에 basis를 배웠고, change of basis도 간략하게 다뤘습니다. \"왜 change of basis를 해야하는가?\"에 대한 대답은 eigen decomposition 시간에 자세히 알아보기로 하고, 오늘은 이를 하는 방법에 대해 예시를 들어 알아보겠습니다.\n",
        "\n",
        "> 모든 vector는 basis vector의 linear combination으로 표현할 수 있습니다. 예를 들어, 다음과 같은 vector $v = \\begin{bmatrix}-3\\\\0\\end{bmatrix}$를 $R^2$의 basis $\\Big\\{ \\mathbf{a} = \\begin{bmatrix}2\\\\1\\end{bmatrix}$, $\\mathbf{b} = \\begin{bmatrix}1\\\\2\\end{bmatrix} \\Big\\}$의 linear combination으로 나타내고 싶다고 합시다."
      ]
    },
    {
      "cell_type": "code",
      "metadata": {
        "id": "Udarkn7TrrTq"
      },
      "source": [
        "C = np.array([[2,1],[1,2]])  # 각 column이 a,b인 행렬"
      ],
      "execution_count": null,
      "outputs": []
    },
    {
      "cell_type": "markdown",
      "metadata": {
        "id": "MRK26EZ8r9Pm"
      },
      "source": [
        "> 이전 실습에서 배웠던것처럼, 같은 vector는 basis를 어떻게 잡냐에 따라 다른 좌표를 갖게 됩니다. Standard basis를 사용한다면 ($\\Big\\{\\mathbf{i}, \\mathbf{j}\\Big\\}$), vector $v$의 좌표는 (-3,0)이 될 것입니다. 저희가 궁금한 것은, basis basis $\\Big\\{ \\mathbf{a} = \\begin{bmatrix}2\\\\1\\end{bmatrix}$, $\\mathbf{b} = \\begin{bmatrix}1\\\\2\\end{bmatrix} \\Big\\}$를 사용했을 때의 좌표입니다. 즉,\n",
        "\n",
        "$$Cx = v $$\n",
        "<h3 align=center> (component 1의 좌표 * $[2,1]^T$) + (component 2의 좌표 * $[1,2]^T$) = v</h3> \n",
        "\n",
        "> 를 만족하는 x를 찾고 싶은 것입니다."
      ]
    },
    {
      "cell_type": "code",
      "metadata": {
        "colab": {
          "base_uri": "https://localhost:8080/"
        },
        "id": "YFDiieJdtEP1",
        "outputId": "373b216a-9848-4fa0-86df-978b9145d34b"
      },
      "source": [
        "v = np.array([-3,0])\n",
        "x = np.linalg.solve(C, v)  # numpy의 solve 함수를 이용해서도 Ax=b의 해를 구할 수 있습니다\n",
        "x"
      ],
      "execution_count": null,
      "outputs": [
        {
          "output_type": "execute_result",
          "data": {
            "text/plain": [
              "array([-2.,  1.])"
            ]
          },
          "metadata": {
            "tags": []
          },
          "execution_count": 120
        }
      ]
    },
    {
      "cell_type": "markdown",
      "metadata": {
        "id": "x_ke8VIAsvec"
      },
      "source": [
        "> Vector $v$는, $\\Big\\{ \\mathbf{a}, \\mathbf{b} \\Big\\}$의 basis에서 좌표가 (-2,1)이 됨을 알 수 있습니다. \n",
        "\n",
        "> 이를 visualize 해봅시다."
      ]
    },
    {
      "cell_type": "code",
      "metadata": {
        "colab": {
          "base_uri": "https://localhost:8080/",
          "height": 386
        },
        "id": "7jGAO4B8t6V9",
        "outputId": "c8d7ad12-c8ab-405c-d747-ea1db1ccde5a"
      },
      "source": [
        "a = np.array([2,1])\n",
        "b = np.array([1,2])\n",
        "plot_change_basis (a, b, v)  # standard basis에서 {a,b} basis로 바꿔주는 custom function 입니다."
      ],
      "execution_count": null,
      "outputs": [
        {
          "output_type": "display_data",
          "data": {
            "image/png": "[encoded data removed]",
            "text/plain": [
              "<Figure size 800x400 with 2 Axes>"
            ]
          },
          "metadata": {
            "tags": [],
            "needs_background": "light"
          }
        }
      ]
    },
    {
      "cell_type": "markdown",
      "metadata": {
        "id": "jid5G_o_uCvr"
      },
      "source": [
        "> 빨간색 vector는 $v$,  갈색 vector는 $i$와 $a$,  파란색 vector는 $j$와 $b$ 입니다. 왼쪽 plot에선, $v$는 -3*$\\mathbf{i}$ + 0*$\\mathbf{j}$임을 알 수 있고, 따라서 좌표가 (-3,0)이 됩니다 (저희가 일반적으로 알고 있는 standard basis에서의 좌표입니다). 오른쪽 plot에선, **같은 vector $v$**가, -2*$\\mathbf{a}$ + 1*$\\mathbf{b}$로 표현됨을 알 수 있고, 따라서 좌표가 (-2,1)이 됩니다. \n",
        "\n",
        "* New basis로 삼을 $\\mathbf{a}, \\mathbf{b}$를 각 column으로 하는 matrix $C$는, $\\Big\\{ \\mathbf{a}, \\mathbf{b} \\Big\\}$ basis에서의 좌표 $x$를 $\\rightarrow$ standard basis $\\Big\\{ \\mathbf{i}, \\mathbf{j} \\Big\\}$에서의 좌표 $v$로 변환해주는 matrix이다 ($Cx = v$, 즉 x는 {a,b}의 좌표, v는 {i,j}의 좌표). \n",
        "\n",
        "> 그럼 반대로, $\\Big\\{\\mathbf{i}, \\mathbf{j}\\Big\\}$의 좌표를 $\\Big\\{\\mathbf{a}, \\mathbf{b}\\Big\\}$의 좌표로 변환시키려면 어떤 matrix를 곱하면 될까요? 당연하게도, $C^{-1}$임을 알 수 있습니다. \n",
        "\n",
        "$$ x = C^{-1}v$$\n",
        "\n",
        "> 하나만 더 나아가 생각해봅시다. 만약 우리가 어떤 vector를 standard basis 상에서(즉 왼쪽 plot에서) $x$를 반시계 방향으로 90도 회전하고 싶은데, $x$의 $\\Big\\{\\mathbf{a}, \\mathbf{b}\\Big\\}$에서의 좌표 (즉 오른쪽 plot에서의 좌표) 만이 주어져 있다고 합시다. 그러면 어떻게 해야 할까요? \n",
        "\n",
        "> 이를 계산하기 위해선, 다음과 같은 단계를 거쳐야 합니다.\n",
        "\n",
        "\n",
        "1.   $\\Big\\{\\mathbf{a}, \\mathbf{b}\\Big\\}$의 좌표를 $\\Big\\{\\mathbf{i}, \\mathbf{j}\\Big\\}$로 바꾼다 (change basis: $C$).\n",
        "2.   $\\Big\\{\\mathbf{i}, \\mathbf{j}\\Big\\}$ 상에서 반시계 방향으로 90도 회전을 한다 (linear transformation: $R$).\n",
        "3.   다시 $\\Big\\{\\mathbf{i}, \\mathbf{j}\\Big\\}$의 좌표를 $\\Big\\{\\mathbf{a}, \\mathbf{b}\\Big\\}$의 좌표로 옮긴다 (change basis: $C^{-1}$) . \n",
        "\n",
        "> 이 셋을 연달아 수행하게 되면, $\\Big\\{\\mathbf{a}, \\mathbf{b}\\Big\\}$ basis에서의 linearly transformed 된 좌표를 얻을 수 있게 됩니다.\n",
        "\n",
        "$$ \\text{새로운 좌표} = C^{-1}RCx$$\n",
        "\n"
      ]
    },
    {
      "cell_type": "code",
      "metadata": {
        "colab": {
          "base_uri": "https://localhost:8080/"
        },
        "id": "aBTUYH832a7j",
        "outputId": "f4292177-9b8f-421b-d686-746b83b36fc2"
      },
      "source": [
        "x = np.array([-2, 1])\n",
        "\n",
        "# 1\n",
        "x_1 = C@x\n",
        "print('1. x_ij:',x_1)\n",
        "\n",
        "# 2\n",
        "R = np.array([[0,-1],[1,0]])\n",
        "x_2 = R@x_1\n",
        "print('2. rotated_x_ij:',x_2)\n",
        "\n",
        "# 3\n",
        "C_inv = np.linalg.inv(C)\n",
        "x_3 = C_inv@x_2\n",
        "print('3: rotated_x_ab:', x_3)"
      ],
      "execution_count": null,
      "outputs": [
        {
          "output_type": "stream",
          "text": [
            "1. x_ij: [-3  0]\n",
            "2. rotated_x_ij: [ 0 -3]\n",
            "3: rotated_x_ab: [ 1. -2.]\n"
          ],
          "name": "stdout"
        }
      ]
    },
    {
      "cell_type": "markdown",
      "metadata": {
        "id": "p3JL-7k0x6Vj"
      },
      "source": [
        "### Exercise\n",
        "\n",
        "$\\Big\\{\\mathbf{a}, \\mathbf{b}\\Big\\}$ basis에서 좌표가 (-7, 11)인 vector $v$가 있습니다. $v$에 대해 $\\Big\\{\\mathbf{i}, \\mathbf{j}\\Big\\}$ 상에서 $T = \\begin{bmatrix} 3 & 5 \\\\ 2 & 11 \\end{bmatrix}$로 표현되는 linear transformation을 적용했을 때, 변환된 좌표를 구하시오. ($\\mathbf{a}, \\mathbf{b}$는 위 예시와 같습니다)"
      ]
    },
    {
      "cell_type": "code",
      "metadata": {
        "id": "82UtM12MyH30",
        "colab": {
          "base_uri": "https://localhost:8080/"
        },
        "outputId": "a87e1f68-cde1-409c-c4ee-af81b386fc20"
      },
      "source": [
        "a = np.array([2,1])\n",
        "b = np.array([1,2])\n",
        "C = np.array([[2,1],[1,2]])\n",
        "\n",
        "v = np.array([-7,11])\n",
        "T = np.array([[3,5],[2,11]])\n",
        "\n",
        "x = np.linalg.solve(C, v)\n",
        "\n",
        "\n",
        "x_1 = C@T\n",
        "print(x_1)\n",
        "\n",
        "x_2 = x_1@x\n",
        "print(x_2)\n",
        "\n",
        "x_3 = x_2@v\n",
        "print(x_3)"
      ],
      "execution_count": null,
      "outputs": [
        {
          "output_type": "stream",
          "text": [
            "[[ 8 21]\n",
            " [ 7 27]]\n",
            "[136.333 202.667]\n",
            "1275.0000000000002\n"
          ],
          "name": "stdout"
        }
      ]
    },
    {
      "cell_type": "markdown",
      "metadata": {
        "id": "mNlawe731Vmg"
      },
      "source": [
        "### Exercise\n",
        "\n",
        "$\\Big\\{\\mathbf{i}, \\mathbf{j}\\Big\\}$ basis에서 좌표가 (-7, 11)인 vector $v$가 있습니다. $v$에 대해 $\\Big\\{\\mathbf{a}, \\mathbf{b}\\Big\\}$ 상에서 $T = \\begin{bmatrix} 3 & 5 \\\\ 2 & 11 \\end{bmatrix}$로 표현되는 linear transformation을 적용했을 때, 변환된 좌표를 구하시오. ($\\mathbf{a}, \\mathbf{b}$는 위 예시와 같습니다)"
      ]
    },
    {
      "cell_type": "code",
      "metadata": {
        "id": "FnLU2Aqv18g1",
        "colab": {
          "base_uri": "https://localhost:8080/"
        },
        "outputId": "c5abd7b7-6ce7-4e91-f251-41f82bf94eec"
      },
      "source": [
        "a = np.array([2,1])\n",
        "b = np.array([1,2])\n",
        "C = np.array([[2,1],[1,2]])\n",
        "\n",
        "v = np.array([-7,11])\n",
        "T = np.array([[3,5],[2,11]])\n",
        "\n",
        "x = np.linalg.solve(C,v)\n",
        "\n",
        "x_1 = T@x\n",
        "print(x_1)\n",
        "\n",
        "x_2 = C@x_1\n",
        "print(x_2)\n",
        "\n",
        "x_3 = x_2@v\n",
        "print(x_3)"
      ],
      "execution_count": null,
      "outputs": [
        {
          "output_type": "stream",
          "text": [
            "[23.333 89.667]\n",
            "[136.333 202.667]\n",
            "1275.0\n"
          ],
          "name": "stdout"
        }
      ]
    },
    {
      "cell_type": "markdown",
      "metadata": {
        "id": "X1TzCSBeh3bS"
      },
      "source": [
        "# Least square \n",
        "\n",
        "> 강의에서 배웠듯, least square 문제는 $Ax = b$의 해가 존재하지 않을 때, 그나마 $Ax$의 값이 $b$와 가장 가까운 (i.e., 둘 사이의 L2 norm을 가장 작게 하는) $x$를 찾으려고 하는 것입니다. \n",
        "\n",
        "$$\n",
        "Ax = \\hat{y} \\approx b \\\\\n",
        "\\begin{bmatrix} a_{11} & a_{12} & a_{13} \\\\ a_{21} & a_{22} & a_{23} \\\\ a_{31} & a_{32} & a_{33} \\\\ a_{41} & a_{42} & a_{43} \\end{bmatrix} \\begin{bmatrix} x_1 \\\\ x_2 \\\\ x_3 \\end{bmatrix} = \\begin{bmatrix} \\hat{y_1} \\\\ \\hat{y_2} \\\\ \\hat{y_3} \\\\ \\hat{y_4} \\end{bmatrix} \\approx  \\begin{bmatrix} b_1 \\\\ b_2 \\\\ b_3 \\\\ b_4 \\end{bmatrix}\n",
        "$$ \n",
        "\n",
        "> 구체적으로는, Error $E = ||b-Ax||^2_2 = ||b-\\hat{y}||^2_2$를 minimize하는 x를 찾는 문제가 least square 문제입니다. 강의 및 실습에서 배웠듯, $b$가 $A$의 column space에 존재한다면 $E = 0$을 만드는 $x$가 존재할 것입니다. 만약 $b$가 $A$의 column space 밖에 있다면, $E$는 0보다 크게 됩니다.\n",
        "\n",
        "> 강의의 geometric interpretation of least square에서 알 수 있듯, 해당 $x$는 \n",
        "\n",
        "$$A^T(b - A\\hat{x}) = 0 \\\\\n",
        "A^TA\\hat{x} = A^Tb$$\n",
        "\n",
        "> 으로 구할 수 있습니다. 만약 $A^TA$가 invertible 하다면, $x = (A^TA)^{-1}A^Tb$ 로 구할 수 있습니다."
      ]
    },
    {
      "cell_type": "markdown",
      "metadata": {
        "id": "okg6RpCvlL3B"
      },
      "source": [
        "# 4. Least square practice\n",
        "\n",
        "> 다음과 같은 data가 있다고 합시다. 몸무게, 키, 흡연 여부로 life-span을 맞추는 문제입니다.\n",
        "\n",
        "* data = $\\begin{array}{ccc}\n",
        "& Weight & Height & Is \\; smoking & Life-span\\\\\n",
        "Person 1 & 60 & 177 & 1(=yes) & 66\\\\\n",
        "Person 2 & 65 & 170 & 0(=no) & 74\\\\\n",
        "Person 3 & 55 & 175 & 0 & 78\\\\\n",
        "Person 4 & 70 & 180 & 1 & 72\\\\\n",
        "Person 5 & 45 & 155 & 1 & 70 \\\\\n",
        "Person 5 & 50 & 160 & 0 & 80 \n",
        "\\end{array}$\n",
        "\n",
        "\n",
        "> Least square를 이용해서 $E$를 최소화하는 x를 구해봅시다."
      ]
    },
    {
      "cell_type": "markdown",
      "metadata": {
        "id": "kJcgrUcZtXJ2"
      },
      "source": [
        "### Exercise"
      ]
    },
    {
      "cell_type": "code",
      "metadata": {
        "id": "OwFEI9aZmYdg"
      },
      "source": [
        "import numpy as np\n",
        "import matplotlib.pyplot as plt\n",
        "plt.style.use('seaborn-poster')\n"
      ],
      "execution_count": null,
      "outputs": []
    },
    {
      "cell_type": "code",
      "metadata": {
        "colab": {
          "base_uri": "https://localhost:8080/",
          "height": 37
        },
        "id": "1qh-SvxfmcNA",
        "outputId": "51d8c6c6-97e2-41f3-e1cd-59d042f737c2"
      },
      "source": [
        "b = np.array([66,74,78,72,70,80]).reshape(6,1)\n",
        "\n",
        "# (1) Weight만 사용해서 life-span을 예측해봅시다.\n",
        "\n",
        "A_1 = np.array([60,65,55,70,45,50]).reshape(6,1)\n",
        "x_1 =  np.linalg.inv(A_1.transpose()@A_1)@A_1.transpose()@b  #(hint: A^TA is invertible)\n",
        "error_1 = (A_1@x_1 - b).sum()\n",
        "\n",
        "error_1"
      ],
      "execution_count": null,
      "outputs": [
        {
          "output_type": "execute_result",
          "data": {
            "image/png": "[encoded data removed]",
            "text/latex": "$\\displaystyle -10.3452527743526$",
            "text/plain": [
              "-10.345252774352609"
            ]
          },
          "metadata": {
            "tags": []
          },
          "execution_count": 126
        }
      ]
    },
    {
      "cell_type": "code",
      "metadata": {
        "id": "3ru7uX0hP8cu"
      },
      "source": [
        "# (2) Weight, Height 2개를 이용해 life-span을 예측해봅시다.\n",
        "\n",
        "A_2 =  np.array([[60,65,55,70,45,50],[177,170,175,180,155,160]]).reshape(6,2)\n",
        "x_2 = np.linalg.inv(A_2.transpose()@A_2)@A_2.transpose()@b\n",
        "error_2 = (A_2@x_2 - b).sum()\n",
        "\n",
        "# (2) Weight, Height, Is smoking 모두 사용해서 life-span을 예측해봅시다.\n",
        "\n",
        "A_3 = np.array([[60,65,55,70,45,50],[177,170,175,180,155,160],[1,0,0,1,1,0]]).reshape(6,3)\n",
        "x_3 = np.linalg.inv(A_3.transpose()@A_3)@A_3.transpose()@b\n",
        "error_3 = (A_3@x_3 - b ).sum()\n",
        "\n"
      ],
      "execution_count": null,
      "outputs": []
    },
    {
      "cell_type": "code",
      "metadata": {
        "id": "kYLhFhSRX8z1",
        "colab": {
          "base_uri": "https://localhost:8080/"
        },
        "outputId": "6ea56566-0424-43f1-ac7f-33128313dbde"
      },
      "source": [
        "print(\"error_1: %.4f, error_2: %.4f, error_3: %.4f\"%(error_1, error_2, error_3))"
      ],
      "execution_count": null,
      "outputs": [
        {
          "output_type": "stream",
          "text": [
            "error_1: -10.3453, error_2: -41.8507, error_3: -151.1449\n"
          ],
          "name": "stdout"
        }
      ]
    },
    {
      "cell_type": "markdown",
      "metadata": {
        "id": "OLf6UtqA5bzt"
      },
      "source": [
        "> 위 코드를 완성시키고, 왜 error에 차이가 나는지 생각해봅시다."
      ]
    },
    {
      "cell_type": "markdown",
      "metadata": {
        "id": "XXaz4WbosMSe"
      },
      "source": [
        "\n",
        ">Quiz 1처럼 우리가 배운 식을 이용해 구할 수도 있지만, 이미 만들어진 함수들을 활용할 수도 있습니다.\n",
        "\n",
        "### Exercise\n",
        "\n",
        "> 2-1) Use np.linalg.lstsq (https://numpy.org/doc/stable/reference/generated/numpy.linalg.lstsq.html)"
      ]
    },
    {
      "cell_type": "code",
      "metadata": {
        "colab": {
          "base_uri": "https://localhost:8080/",
          "height": 91
        },
        "id": "L8wpiFgNycZx",
        "outputId": "dd23be37-8c90-47b4-fe87-a25e38231a09"
      },
      "source": [
        "A = A_3\n",
        "x_4 = np.linalg.lstsq(A, b)[0]\n",
        "error_4 = (A@x_4 - b ).sum()\n",
        "error_4"
      ],
      "execution_count": null,
      "outputs": [
        {
          "output_type": "stream",
          "text": [
            "/usr/local/lib/python3.7/dist-packages/ipykernel_launcher.py:2: FutureWarning: `rcond` parameter will change to the default of machine precision times ``max(M, N)`` where M and N are the input matrix dimensions.\n",
            "To use the future default and silence this warning we advise to pass `rcond=None`, to keep using the old, explicitly pass `rcond=-1`.\n",
            "  \n"
          ],
          "name": "stderr"
        },
        {
          "output_type": "execute_result",
          "data": {
            "image/png": "[encoded data removed]",
            "text/latex": "$\\displaystyle -151.144899294554$",
            "text/plain": [
              "-151.14489929455374"
            ]
          },
          "metadata": {
            "tags": []
          },
          "execution_count": 129
        }
      ]
    },
    {
      "cell_type": "markdown",
      "metadata": {
        "id": "ehMtfVMlysL9"
      },
      "source": [
        "> 2-2) Use optimize.curve_fit from scipy (https://docs.scipy.org/doc/scipy/reference/reference/generated/scipy.optimize.curve_fit.html?highlight=curve_fit#scipy.optimize.curve_fit)"
      ]
    },
    {
      "cell_type": "code",
      "metadata": {
        "id": "z6GxnzlizyqF"
      },
      "source": [
        "from scipy import optimize\n",
        "\n",
        "# 주의: 이 방식은 속도 등을 고려하지 않은, 예시 코드입니다.\n",
        "def func(data, x_1, x_2, x_3):\n",
        "  return data[0]*x_1 + data[1]*x_2 + data[2]*x_3"
      ],
      "execution_count": null,
      "outputs": []
    },
    {
      "cell_type": "code",
      "metadata": {
        "id": "DwalsKRE2eA8"
      },
      "source": [
        "weight = [60,65,55,70,45,50]\n",
        "#weight = [float(x) for x in weight]\n",
        "height = [177,170,175,180,155,160]\n",
        "#height = [float(x) for x in height]\n",
        "smoke = [1,0,0,1,1,0]\n",
        "#smoke = [float(x) for x in smoke]\n",
        "\n",
        "for item in A:\n",
        "  weight.append(item[0])\n",
        "  height.append(item[1])\n",
        "  smoke.append(item[2])"
      ],
      "execution_count": null,
      "outputs": []
    },
    {
      "cell_type": "code",
      "metadata": {
        "id": "L0gTckXWeWpy"
      },
      "source": [
        "item = [float(x) for x in item]"
      ],
      "execution_count": null,
      "outputs": []
    },
    {
      "cell_type": "code",
      "metadata": {
        "id": "S087HriSejqT",
        "colab": {
          "base_uri": "https://localhost:8080/"
        },
        "outputId": "9abdf1f8-3eab-47bc-b827-e6c2d96ae4c5"
      },
      "source": [
        "A"
      ],
      "execution_count": null,
      "outputs": [
        {
          "output_type": "execute_result",
          "data": {
            "text/plain": [
              "array([[ 60,  65,  55],\n",
              "       [ 70,  45,  50],\n",
              "       [177, 170, 175],\n",
              "       [180, 155, 160],\n",
              "       [  1,   0,   0],\n",
              "       [  1,   1,   0]])"
            ]
          },
          "metadata": {
            "tags": []
          },
          "execution_count": 133
        }
      ]
    },
    {
      "cell_type": "code",
      "metadata": {
        "id": "VdfaNXQ42aqe"
      },
      "source": [
        "x_5 = optimize.curve_fit(func, xdata = [weight,height,smoke], ydata = list(b))[0]"
      ],
      "execution_count": null,
      "outputs": []
    },
    {
      "cell_type": "code",
      "metadata": {
        "colab": {
          "base_uri": "https://localhost:8080/",
          "height": 37
        },
        "id": "de6vXo1x60Rj",
        "outputId": "85bf34e5-ab8e-466b-f767-879597c1880b"
      },
      "source": [
        "error_5 = ((A@x_5 - b)**2).sum()\n",
        "error_5"
      ],
      "execution_count": null,
      "outputs": [
        {
          "output_type": "execute_result",
          "data": {
            "image/png": "[encoded data removed]",
            "text/latex": "$\\displaystyle 102.95214672495$",
            "text/plain": [
              "102.95214672495048"
            ]
          },
          "metadata": {
            "tags": []
          },
          "execution_count": 48
        }
      ]
    },
    {
      "cell_type": "markdown",
      "metadata": {
        "id": "i_NqQRDaKqU6"
      },
      "source": [
        "# Reference\n",
        "\n",
        "1. https://github.com/akhilvasvani/Linear-Algebra-Basics\n",
        "2. https://github.com/jclosure/EngComp4_landlinear\n",
        "\n",
        "3. https://github.com/MacroAnalyst/Linear_Algebra_With_Python\n",
        "\n",
        "\n",
        "\n"
      ]
    }
  ]
}